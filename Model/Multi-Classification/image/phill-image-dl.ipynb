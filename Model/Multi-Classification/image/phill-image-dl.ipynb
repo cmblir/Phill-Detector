{
 "cells": [
  {
   "cell_type": "code",
   "execution_count": 1,
   "metadata": {},
   "outputs": [
    {
     "data": {
      "text/plain": [
       "0        https://nedrug.mfds.go.kr/pbp/cmn/itemImageDow...\n",
       "1        https://nedrug.mfds.go.kr/pbp/cmn/itemImageDow...\n",
       "2        https://nedrug.mfds.go.kr/pbp/cmn/itemImageDow...\n",
       "3        https://nedrug.mfds.go.kr/pbp/cmn/itemImageDow...\n",
       "4        https://nedrug.mfds.go.kr/pbp/cmn/itemImageDow...\n",
       "                               ...                        \n",
       "24635    https://nedrug.mfds.go.kr/pbp/cmn/itemImageDow...\n",
       "24636    https://nedrug.mfds.go.kr/pbp/cmn/itemImageDow...\n",
       "24637    https://nedrug.mfds.go.kr/pbp/cmn/itemImageDow...\n",
       "24638    https://nedrug.mfds.go.kr/pbp/cmn/itemImageDow...\n",
       "24639    https://nedrug.mfds.go.kr/pbp/cmn/itemImageDow...\n",
       "Name: ITEM_IMAGE, Length: 24640, dtype: object"
      ]
     },
     "execution_count": 1,
     "metadata": {},
     "output_type": "execute_result"
    }
   ],
   "source": [
    "import pandas as pd\n",
    "import os\n",
    "img = pd.read_csv('phill-info.csv')\n",
    "img['ITEM_IMAGE']"
   ]
  },
  {
   "cell_type": "code",
   "execution_count": 6,
   "metadata": {},
   "outputs": [
    {
     "data": {
      "text/html": [
       "<div>\n",
       "<style scoped>\n",
       "    .dataframe tbody tr th:only-of-type {\n",
       "        vertical-align: middle;\n",
       "    }\n",
       "\n",
       "    .dataframe tbody tr th {\n",
       "        vertical-align: top;\n",
       "    }\n",
       "\n",
       "    .dataframe thead th {\n",
       "        text-align: right;\n",
       "    }\n",
       "</style>\n",
       "<table border=\"1\" class=\"dataframe\">\n",
       "  <thead>\n",
       "    <tr style=\"text-align: right;\">\n",
       "      <th></th>\n",
       "      <th>ITEM_NAME</th>\n",
       "      <th>ENTP_NAME</th>\n",
       "      <th>ITEM_IMAGE</th>\n",
       "      <th>PRINT_FRONT</th>\n",
       "      <th>PRINT_BACK</th>\n",
       "      <th>DRUG_SHAPE</th>\n",
       "      <th>COLOR_CLASS1</th>\n",
       "      <th>COLOR_CLASS1.1</th>\n",
       "      <th>CLASS_NAME</th>\n",
       "      <th>ETC_OTC_NAME</th>\n",
       "    </tr>\n",
       "  </thead>\n",
       "  <tbody>\n",
       "    <tr>\n",
       "      <th>0</th>\n",
       "      <td>가스디알정50밀리그램(디메크로틴산마그네슘)</td>\n",
       "      <td>일동제약(주)</td>\n",
       "      <td>https://nedrug.mfds.go.kr/pbp/cmn/itemImageDow...</td>\n",
       "      <td>IDG</td>\n",
       "      <td>NaN</td>\n",
       "      <td>원형</td>\n",
       "      <td>연두</td>\n",
       "      <td>NaN</td>\n",
       "      <td>기타의 소화기관용약</td>\n",
       "      <td>전문의약품</td>\n",
       "    </tr>\n",
       "    <tr>\n",
       "      <th>1</th>\n",
       "      <td>페라트라정2.5밀리그램(레트로졸)</td>\n",
       "      <td>(주)유한양행</td>\n",
       "      <td>https://nedrug.mfds.go.kr/pbp/cmn/itemImageDow...</td>\n",
       "      <td>YH</td>\n",
       "      <td>LT</td>\n",
       "      <td>원형</td>\n",
       "      <td>노랑</td>\n",
       "      <td>NaN</td>\n",
       "      <td>항악성종양제</td>\n",
       "      <td>전문의약품</td>\n",
       "    </tr>\n",
       "    <tr>\n",
       "      <th>2</th>\n",
       "      <td>졸뎀속붕정(졸피뎀타르타르산염)</td>\n",
       "      <td>보령제약(주)</td>\n",
       "      <td>https://nedrug.mfds.go.kr/pbp/cmn/itemImageDow...</td>\n",
       "      <td>NaN</td>\n",
       "      <td>NaN</td>\n",
       "      <td>원형</td>\n",
       "      <td>하양</td>\n",
       "      <td>NaN</td>\n",
       "      <td>최면진정제</td>\n",
       "      <td>전문의약품</td>\n",
       "    </tr>\n",
       "    <tr>\n",
       "      <th>3</th>\n",
       "      <td>가스프렌정(모사프리드시트르산염이수화물)</td>\n",
       "      <td>경동제약(주)</td>\n",
       "      <td>https://nedrug.mfds.go.kr/pbp/cmn/itemImageDow...</td>\n",
       "      <td>KD</td>\n",
       "      <td>분할선</td>\n",
       "      <td>장방형</td>\n",
       "      <td>하양</td>\n",
       "      <td>NaN</td>\n",
       "      <td>기타의 소화기관용약</td>\n",
       "      <td>전문의약품</td>\n",
       "    </tr>\n",
       "    <tr>\n",
       "      <th>4</th>\n",
       "      <td>디텐션정80밀리그램(발사르탄)</td>\n",
       "      <td>일성신약(주)</td>\n",
       "      <td>https://nedrug.mfds.go.kr/pbp/cmn/itemImageDow...</td>\n",
       "      <td>ISP</td>\n",
       "      <td>D분할선T</td>\n",
       "      <td>원형</td>\n",
       "      <td>분홍</td>\n",
       "      <td>NaN</td>\n",
       "      <td>혈압강하제</td>\n",
       "      <td>전문의약품</td>\n",
       "    </tr>\n",
       "  </tbody>\n",
       "</table>\n",
       "</div>"
      ],
      "text/plain": [
       "                 ITEM_NAME ENTP_NAME  \\\n",
       "0  가스디알정50밀리그램(디메크로틴산마그네슘)   일동제약(주)   \n",
       "1       페라트라정2.5밀리그램(레트로졸)   (주)유한양행   \n",
       "2         졸뎀속붕정(졸피뎀타르타르산염)   보령제약(주)   \n",
       "3    가스프렌정(모사프리드시트르산염이수화물)   경동제약(주)   \n",
       "4         디텐션정80밀리그램(발사르탄)   일성신약(주)   \n",
       "\n",
       "                                          ITEM_IMAGE PRINT_FRONT PRINT_BACK  \\\n",
       "0  https://nedrug.mfds.go.kr/pbp/cmn/itemImageDow...         IDG        NaN   \n",
       "1  https://nedrug.mfds.go.kr/pbp/cmn/itemImageDow...          YH         LT   \n",
       "2  https://nedrug.mfds.go.kr/pbp/cmn/itemImageDow...         NaN        NaN   \n",
       "3  https://nedrug.mfds.go.kr/pbp/cmn/itemImageDow...          KD        분할선   \n",
       "4  https://nedrug.mfds.go.kr/pbp/cmn/itemImageDow...         ISP      D분할선T   \n",
       "\n",
       "  DRUG_SHAPE COLOR_CLASS1 COLOR_CLASS1.1  CLASS_NAME ETC_OTC_NAME  \n",
       "0         원형           연두            NaN  기타의 소화기관용약        전문의약품  \n",
       "1         원형           노랑            NaN      항악성종양제        전문의약품  \n",
       "2         원형           하양            NaN       최면진정제        전문의약품  \n",
       "3        장방형           하양            NaN  기타의 소화기관용약        전문의약품  \n",
       "4         원형           분홍            NaN       혈압강하제        전문의약품  "
      ]
     },
     "execution_count": 6,
     "metadata": {},
     "output_type": "execute_result"
    }
   ],
   "source": [
    "img.head()"
   ]
  },
  {
   "cell_type": "code",
   "execution_count": 2,
   "metadata": {},
   "outputs": [
    {
     "data": {
      "text/plain": [
       "혈압강하제               2714\n",
       "해열.진통.소염제           2465\n",
       "동맥경화용제              1673\n",
       "소화성궤양용제             1588\n",
       "기타의 중추신경용약          1133\n",
       "                    ... \n",
       "호흡기관용약                 1\n",
       "백신류                    1\n",
       "저함량 비타민 및 미네랄 제제       1\n",
       "소화기관용약                 1\n",
       "비타민제                   1\n",
       "Name: CLASS_NAME, Length: 104, dtype: int64"
      ]
     },
     "execution_count": 2,
     "metadata": {},
     "output_type": "execute_result"
    }
   ],
   "source": [
    "img['CLASS_NAME'].value_counts()"
   ]
  },
  {
   "cell_type": "code",
   "execution_count": 5,
   "metadata": {},
   "outputs": [
    {
     "data": {
      "text/plain": [
       "레날리드정(레날리도마이드)                                  7\n",
       "젠스트린트로키(멘톨앤페퍼민트향, 페퍼민트향, 레몬향, 복숭아향)(플루르비프로펜)    3\n",
       "라믹탈정25밀리그램,50밀리그램,100밀리그램(라모트리진)                3\n",
       "옵티코프연질캡슐                                        2\n",
       "라피드정(레바미피드)                                     2\n",
       "                                               ..\n",
       "카르니젠정(아세틸-L-카르니틴염산염)(수출용)                       1\n",
       "리포스타정20밀리그램(심바스타틴)                              1\n",
       "심바로정(심바스타틴)                                     1\n",
       "뉴바스틴정(심바스타틴)                                    1\n",
       "몬카츄정4밀리그램(몬테루카스트나트륨)                            1\n",
       "Name: ITEM_NAME, Length: 24591, dtype: int64"
      ]
     },
     "execution_count": 5,
     "metadata": {},
     "output_type": "execute_result"
    }
   ],
   "source": [
    "img['ITEM_NAME'].value_counts()"
   ]
  },
  {
   "cell_type": "code",
   "execution_count": 19,
   "metadata": {},
   "outputs": [],
   "source": [
    "import urllib.request\n",
    "import os\n",
    "import time\n",
    "cnt = 1\n",
    "\n",
    "def makedir(path): # 카테고리별로 분류하기 위해 폴더 만들 수 있는 함수 만들기\n",
    "        try:\n",
    "            os.makedirs(path)\n",
    "        except OSError:\n",
    "            if not os.path.isdir(path):\n",
    "                pass\n",
    "                # raise\n",
    "\n",
    "for img_name, img_url in zip(img['CLASS_NAME'], img['ITEM_IMAGE']):\n",
    "    cnt += 1 # 이미지의 클래스 명칭으로 들어갈 경우 같은 종류의 이미지는 이름이 같으므로 덮어쓰기가 된다.\n",
    "    # 이것을 방지하기 위해서 반복문이 돌아가는 동안 1씩 더해서 이름1 이런식으로 설정해준다.\n",
    "    try:\n",
    "        if \"/\" in img_name: # 이미지에 /가 있는 경우 urllib 라이브러리가 하나의 폴더로 인식하여 오류가 나므로 전처리\n",
    "            img_name = img_name.replace(\"/\",\"\")\n",
    "        if \".\" in img_name:\n",
    "            img_name = img_name.replace(\".\",\" \") # 확장자 중복 방지\n",
    "        if \"밀리그램\" in img_name: # 밀리그램의 경우 mg와 혼동되므로 전처리\n",
    "            img_name = img_name.replace(\"밀리그램\",\"mg\")\n",
    "    except: pass\n",
    "    makedir(f'Phill-Images(class_name)/{img_name}')\n",
    "    urllib.request.urlretrieve(img_url, f'phill-images(class_name)/{img_name}/'+f'{img_name}{cnt}.png')"
   ]
  }
 ],
 "metadata": {
  "kernelspec": {
   "display_name": "Python 3.8.0 ('phill')",
   "language": "python",
   "name": "python3"
  },
  "language_info": {
   "codemirror_mode": {
    "name": "ipython",
    "version": 3
   },
   "file_extension": ".py",
   "mimetype": "text/x-python",
   "name": "python",
   "nbconvert_exporter": "python",
   "pygments_lexer": "ipython3",
   "version": "3.8.0"
  },
  "orig_nbformat": 4,
  "vscode": {
   "interpreter": {
    "hash": "94f1904e3584759257e48706ed5ae3ee844fea8889e96fbcec8dfc03db6e088e"
   }
  }
 },
 "nbformat": 4,
 "nbformat_minor": 2
}
