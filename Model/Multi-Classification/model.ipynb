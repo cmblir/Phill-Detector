{
 "cells": [
  {
   "cell_type": "code",
   "execution_count": 25,
   "metadata": {},
   "outputs": [],
   "source": [
    "import pandas as pd\n",
    "import os\n",
    "import cv2\n",
    "import matplotlib.pyplot as plt\n",
    "import matplotlib\n",
    "import numpy as np\n",
    "import tensorflow_addons as tfa\n",
    "import pickle\n",
    "import pydot\n",
    "import graphviz\n",
    "from PIL import Image\n",
    "from tensorflow.keras.utils import plot_model\n",
    "from tensorflow.keras import Sequential\n",
    "from tensorflow.keras.layers import Conv2D, MaxPooling2D, BatchNormalization\n",
    "from tensorflow.keras.layers import Activation, Flatten, Dropout, Dense\n",
    "from tensorflow.keras.losses import CategoricalCrossentropy\n",
    "from tensorflow.keras.optimizers import Adam\n",
    "from sklearn.preprocessing import MultiLabelBinarizer\n",
    "from sklearn.model_selection import train_test_split\n",
    "from imutils import paths\n",
    "from tqdm import tqdm"
   ]
  },
  {
   "cell_type": "code",
   "execution_count": 26,
   "metadata": {},
   "outputs": [],
   "source": [
    "img_dim = (180, 180, 3)\n",
    "\n",
    "imgs = []\n",
    "labels = []\n",
    "\n",
    "def resizer(img_paths):\n",
    "  \"\"\"\n",
    "  모델에 사용할 수 있도록 이미지 사이즈 조정\n",
    "  \"\"\"\n",
    "  for img_path in tqdm(img_paths):\n",
    "      try:\n",
    "        img = cv2.imread(img_path)\n",
    "        img = cv2.resize(img, (img_dim[1], img_dim[0]))\n",
    "\n",
    "        label = img_path.split(os.path.sep)[-2]\n",
    "        labels.append([label])\n",
    "\n",
    "        imgs.append(img)\n",
    "      except:\n",
    "        print(f\"error file is {img_path.split('.')[-1]}\")"
   ]
  },
  {
   "cell_type": "code",
   "execution_count": 27,
   "metadata": {},
   "outputs": [
    {
     "name": "stdout",
     "output_type": "stream",
     "text": [
      ">>> img counts = 21465\n"
     ]
    }
   ],
   "source": [
    "images = '/Users/cmblir/Python/Phill-Detector/Model/Multi-Classification/image/images/'\n",
    "train_img_paths = sorted(list(paths.list_images(images)))\n",
    "print(\">>> img counts =\", len(train_img_paths))"
   ]
  },
  {
   "cell_type": "code",
   "execution_count": 28,
   "metadata": {},
   "outputs": [
    {
     "name": "stderr",
     "output_type": "stream",
     "text": [
      " 13%|█▎        | 2844/21465 [00:15<01:49, 169.32it/s]"
     ]
    },
    {
     "name": "stdout",
     "output_type": "stream",
     "text": [
      "error file is png\n"
     ]
    },
    {
     "name": "stderr",
     "output_type": "stream",
     "text": [
      "100%|██████████| 21465/21465 [01:55<00:00, 185.67it/s]\n"
     ]
    }
   ],
   "source": [
    "resizer(train_img_paths)"
   ]
  },
  {
   "cell_type": "code",
   "execution_count": 29,
   "metadata": {},
   "outputs": [],
   "source": [
    "imgs = np.array(imgs, dtype= 'float32') / 255.0\n",
    "imgs_test = np.array(imgs, dtype= 'float32') / 255.0\n",
    "labels = np.array(labels)"
   ]
  },
  {
   "cell_type": "code",
   "execution_count": 30,
   "metadata": {},
   "outputs": [],
   "source": [
    "mlb = MultiLabelBinarizer()\n",
    "enc_labels = mlb.fit_transform(labels)"
   ]
  },
  {
   "cell_type": "code",
   "execution_count": 31,
   "metadata": {},
   "outputs": [
    {
     "name": "stdout",
     "output_type": "stream",
     "text": [
      ">>> classes name = ['X선조영제' 'nan' '소화성궤양용제' '정신신경용제' '각성제,흥분제' '간장질환용제'\n",
      " '갑상선, 부갑상선호르몬제' '강심제' '건위소화제' '골격근이완제' '구충제' '기생성 피부질환용제' '기타의 말초신경용약'\n",
      " '기타의 비뇨생식기관 및 항문용약' '기타의 비타민제' '기타의 소화기관용약' '기타의 순환계용약'\n",
      " '기타의 신경계및 감각기관용 의약품' '기타의 알레르기용약' '기타의 외피용약' '기타의 자양강장변질제' '기타의 조제용약'\n",
      " '기타의 조직세포의 기능용의약품' '기타의 종양치료제' '기타의 중추신경용약' '기타의 항생물질제제(복합항생물질제제를 포함)'\n",
      " '기타의 혈액 및 체액용약' '기타의 호르몬제(항호르몬제를 포함)' '기타의 호흡기관용약' '기타의 화학요법제'\n",
      " '난포호르몬제 및 황체호르몬제' '뇌하수체호르몬제' '단백동화스테로이드제' '단백아미노산제제' '당뇨병용제' '동맥경화용제'\n",
      " '따로 분류되지 않고 치료를 주목적으로 하지않는 의약품' '따로 분류되지 않는 대사성 의약품' '면역혈청학적 검사용 시약'\n",
      " '모발용제(발모, 탈모, 염모, 양모제)' '무기질제제' '백신류' '부신호르몬제' '부정맥용제'\n",
      " '비뇨생식기관용제(성병예방제포함)' '비타민 A 및 D제' '비타민 B1제' '비타민 B제(비타민 B1을 제외)'\n",
      " '비타민 C 및 P제' '비타민 E 및 K제' '비타민제' '설화제' '소화기관용약' '아편알카로이드계 제제' '안과용제'\n",
      " '이뇨제' '이담제' '이비과용제' '자격요법제(비특이성면역억제제를 포함)' '자궁수축제' '자율신경제' '장기제제'\n",
      " '저함량 비타민 및 미네랄 제제' '정장제' '제산제' '종합대사성제제' '주로 곰팡이, 원충에 작용하는 것'\n",
      " '주로 그람양성, 음성균, 리케치아, 비루스에 작용하는 것' '주로 그람양성, 음성균에 작용하는 것'\n",
      " '주로 그람양성균, 리케치아, 비루스에 작용하는 것' '주로 그람양성균에 작용하는 것' '주로 그람음성균에 작용하는 것'\n",
      " '주로 항산성균에 작용하는 것' '지혈제' '진경제' '진해거담제' '진훈제' '최면진정제' '최토제, 진토제' '치과구강용약'\n",
      " '치나제' '치질용제' '칼슘제' '통풍치료제' '피임제' '하제, 완장제' '합성마약' '항결핵제' '항악성종양제' '항원충제'\n",
      " '항전간제' '항히스타민제' '해독제' '해열 진통 소염제' '혈관보강제' '혈관수축제' '혈관확장제' '혈압강하제' '혈액대용제'\n",
      " '혈액응고저지제' '호흡기관용약' '혼합비타민제(비타민AD 혼합제제를 제외)' '화농성질환용제' '효소제제' '후란계 제제']\n"
     ]
    }
   ],
   "source": [
    "print('>>> classes name =', mlb.classes_)"
   ]
  },
  {
   "cell_type": "code",
   "execution_count": 32,
   "metadata": {},
   "outputs": [],
   "source": [
    "(X_train, X_test, y_train, y_test) = train_test_split(imgs, enc_labels, test_size = 0.2, random_state=42)"
   ]
  },
  {
   "cell_type": "code",
   "execution_count": 33,
   "metadata": {},
   "outputs": [],
   "source": [
    "# 모델링\n",
    "class Classifier:\n",
    "\tdef build(width, height, depth, classes):\n",
    "\t\tmodel = Sequential()\n",
    "\t\tinput_shape = (height, width, depth)\n",
    "\t\t\n",
    "\t\tmodel.add(Conv2D(32, (3, 3), padding='same', input_shape=input_shape))\n",
    "\t\tmodel.add(Activation('relu'))\n",
    "\t\tmodel.add(BatchNormalization(axis=-1))\n",
    "\t\tmodel.add(MaxPooling2D(pool_size=(3, 3)))\n",
    "\t\tmodel.add(Dropout(0.25))\n",
    "  \n",
    "\t\tmodel.add(Conv2D(64, (3, 3), padding='same'))\n",
    "\t\tmodel.add(Activation('relu'))\n",
    "\t\tmodel.add(BatchNormalization(axis=-1))\n",
    "\t\n",
    "\t\tmodel.add(Conv2D(64, (3, 3), padding='same'))\n",
    "\t\tmodel.add(Activation('relu'))\n",
    "\t\tmodel.add(BatchNormalization(axis=-1))\n",
    "\t\tmodel.add(MaxPooling2D(pool_size=(2, 2)))\n",
    "\t\tmodel.add(Dropout(0.25))\n",
    " \n",
    "\t\tmodel.add(Conv2D(128, (3, 3), padding='same'))\n",
    "\t\tmodel.add(Activation('relu'))\n",
    "\t\tmodel.add(BatchNormalization(axis=-1))\n",
    "\t\n",
    "\t\tmodel.add(Conv2D(128, (3, 3), padding='same'))\n",
    "\t\tmodel.add(Activation('relu'))\n",
    "\t\tmodel.add(BatchNormalization(axis=-1))\n",
    "\t\tmodel.add(MaxPooling2D(pool_size=(2, 2)))\n",
    "\t\tmodel.add(Dropout(0.25))\n",
    "        \n",
    "\t\tmodel.add(Conv2D(256, (3, 3), padding='same'))\n",
    "\t\tmodel.add(Activation('relu'))\n",
    "\t\tmodel.add(BatchNormalization(axis=-1))\n",
    "\t\n",
    "\t\tmodel.add(Conv2D(256, (3, 3), padding='same'))\n",
    "\t\tmodel.add(Activation('relu'))\n",
    "\t\tmodel.add(BatchNormalization(axis=-1))\n",
    "\t\tmodel.add(MaxPooling2D(pool_size=(2, 2)))\n",
    "\t\tmodel.add(Dropout(0.25))\n",
    "\n",
    "\t\tmodel.add(Flatten())\n",
    "\t\tmodel.add(Dense(2048))\n",
    "\t\tmodel.add(Activation('relu'))\n",
    "\t\tmodel.add(BatchNormalization())\n",
    "\t\tmodel.add(Dropout(0.5))\n",
    "  \n",
    "\t\tmodel.add(Dense(classes))\n",
    "\t\tmodel.add(Activation('softmax'))\n",
    "\t\treturn model"
   ]
  },
  {
   "cell_type": "code",
   "execution_count": 34,
   "metadata": {},
   "outputs": [],
   "source": [
    "# 모델 설정하기\n",
    "model = Classifier.build(\n",
    "    width=img_dim[1], height=img_dim[0], depth=img_dim[2],\n",
    "    classes=len(mlb.classes_)\n",
    ")"
   ]
  },
  {
   "cell_type": "code",
   "execution_count": 35,
   "metadata": {},
   "outputs": [
    {
     "name": "stdout",
     "output_type": "stream",
     "text": [
      "You must install pydot (`pip install pydot`) and install graphviz (see instructions at https://graphviz.gitlab.io/download/) for plot_model to work.\n"
     ]
    }
   ],
   "source": [
    "plot_model(model, to_file='model_shapes.png', show_shapes=True)"
   ]
  },
  {
   "cell_type": "code",
   "execution_count": 36,
   "metadata": {},
   "outputs": [],
   "source": [
    "# 학습 및 성능 측정하기\n",
    "model.compile(loss = CategoricalCrossentropy(from_logits=False),\n",
    "optimizer=Adam(learning_rate=1e-3, decay= 1e-3 / 200),\n",
    "metrics = ['accuracy'])"
   ]
  },
  {
   "cell_type": "code",
   "execution_count": 37,
   "metadata": {},
   "outputs": [],
   "source": [
    "tqdm_callback = tfa.callbacks.TQDMProgressBar()"
   ]
  },
  {
   "cell_type": "code",
   "execution_count": 38,
   "metadata": {},
   "outputs": [
    {
     "name": "stdout",
     "output_type": "stream",
     "text": [
      "Num GPUs Available:  1\n"
     ]
    }
   ],
   "source": [
    "# M! GPU 사용여부 확인\n",
    "import tensorflow as tf\n",
    "print(\"Num GPUs Available: \", len(tf.config.experimental.list_physical_devices('GPU')))"
   ]
  },
  {
   "cell_type": "code",
   "execution_count": 39,
   "metadata": {},
   "outputs": [
    {
     "data": {
      "application/vnd.jupyter.widget-view+json": {
       "model_id": "e869637c15ab4c169f2650b8a87c0033",
       "version_major": 2,
       "version_minor": 0
      },
      "text/plain": [
       "Training:   0%|           0/200 ETA: ?s,  ?epochs/s"
      ]
     },
     "metadata": {},
     "output_type": "display_data"
    },
    {
     "name": "stdout",
     "output_type": "stream",
     "text": [
      "Epoch 1/200\n"
     ]
    },
    {
     "data": {
      "application/vnd.jupyter.widget-view+json": {
       "model_id": "e555aa7e1cbd453fa2fbc92747217d0d",
       "version_major": 2,
       "version_minor": 0
      },
      "text/plain": [
       "0/537           ETA: ?s - "
      ]
     },
     "metadata": {},
     "output_type": "display_data"
    },
    {
     "name": "stdout",
     "output_type": "stream",
     "text": [
      "Epoch 1/200\n"
     ]
    },
    {
     "name": "stderr",
     "output_type": "stream",
     "text": [
      "2022-10-16 02:00:48.338705: I tensorflow/core/grappler/optimizers/custom_graph_optimizer_registry.cc:114] Plugin optimizer for device_type GPU is enabled.\n"
     ]
    },
    {
     "name": "stdout",
     "output_type": "stream",
     "text": [
      "  6/537 [..............................] - ETA: 3:47 - loss: 4.6313 - accuracy: 0.0990WARNING:tensorflow:Callback method `on_train_batch_end` is slow compared to the batch time (batch time: 0.1422s vs `on_train_batch_end` time: 0.2623s). Check your callbacks.\n",
      "537/537 [==============================] - ETA: 0s - loss: 3.6530 - accuracy: 0.1169"
     ]
    },
    {
     "name": "stderr",
     "output_type": "stream",
     "text": [
      "2022-10-16 02:04:37.562365: I tensorflow/core/grappler/optimizers/custom_graph_optimizer_registry.cc:114] Plugin optimizer for device_type GPU is enabled.\n"
     ]
    },
    {
     "name": "stdout",
     "output_type": "stream",
     "text": [
      "537/537 [==============================] - 247s 457ms/step - loss: 3.6530 - accuracy: 0.1169 - val_loss: 85018368.0000 - val_accuracy: 0.1109\n",
      "Epoch 2/200\n"
     ]
    },
    {
     "data": {
      "application/vnd.jupyter.widget-view+json": {
       "model_id": "34696cc2b8ae47c69c3c8293d8d81fc3",
       "version_major": 2,
       "version_minor": 0
      },
      "text/plain": [
       "0/537           ETA: ?s - "
      ]
     },
     "metadata": {},
     "output_type": "display_data"
    },
    {
     "name": "stdout",
     "output_type": "stream",
     "text": [
      "Epoch 2/200\n",
      "537/537 [==============================] - 240s 447ms/step - loss: 3.6060 - accuracy: 0.1171 - val_loss: 83802406912.0000 - val_accuracy: 0.1109\n",
      "Epoch 3/200\n"
     ]
    },
    {
     "data": {
      "application/vnd.jupyter.widget-view+json": {
       "model_id": "6391864bbde54640b6cad5c45a247d21",
       "version_major": 2,
       "version_minor": 0
      },
      "text/plain": [
       "0/537           ETA: ?s - "
      ]
     },
     "metadata": {},
     "output_type": "display_data"
    },
    {
     "name": "stdout",
     "output_type": "stream",
     "text": [
      "Epoch 3/200\n",
      "537/537 [==============================] - 244s 455ms/step - loss: 3.6050 - accuracy: 0.1178 - val_loss: 66935078912.0000 - val_accuracy: 0.0547\n",
      "Epoch 4/200\n"
     ]
    },
    {
     "data": {
      "application/vnd.jupyter.widget-view+json": {
       "model_id": "5fb1d0a02ea9488aa921e58d3afc6c5d",
       "version_major": 2,
       "version_minor": 0
      },
      "text/plain": [
       "0/537           ETA: ?s - "
      ]
     },
     "metadata": {},
     "output_type": "display_data"
    },
    {
     "name": "stdout",
     "output_type": "stream",
     "text": [
      "Epoch 4/200\n",
      "537/537 [==============================] - 245s 456ms/step - loss: 3.6029 - accuracy: 0.1186 - val_loss: 88477057024.0000 - val_accuracy: 0.1113\n",
      "Epoch 5/200\n"
     ]
    },
    {
     "data": {
      "application/vnd.jupyter.widget-view+json": {
       "model_id": "df3bcc5aa85c4c339ed53a8c63e139ef",
       "version_major": 2,
       "version_minor": 0
      },
      "text/plain": [
       "0/537           ETA: ?s - "
      ]
     },
     "metadata": {},
     "output_type": "display_data"
    },
    {
     "name": "stdout",
     "output_type": "stream",
     "text": [
      "Epoch 5/200\n",
      "537/537 [==============================] - 244s 453ms/step - loss: 3.6022 - accuracy: 0.1184 - val_loss: 79921029120.0000 - val_accuracy: 0.1165\n",
      "Epoch 6/200\n"
     ]
    },
    {
     "data": {
      "application/vnd.jupyter.widget-view+json": {
       "model_id": "4aa01618365d403485c6fb8d99c57f0e",
       "version_major": 2,
       "version_minor": 0
      },
      "text/plain": [
       "0/537           ETA: ?s - "
      ]
     },
     "metadata": {},
     "output_type": "display_data"
    },
    {
     "name": "stdout",
     "output_type": "stream",
     "text": [
      "Epoch 6/200\n",
      "537/537 [==============================] - 246s 458ms/step - loss: 3.6037 - accuracy: 0.1174 - val_loss: 101718040576.0000 - val_accuracy: 0.1137\n",
      "Epoch 7/200\n"
     ]
    },
    {
     "data": {
      "application/vnd.jupyter.widget-view+json": {
       "model_id": "9100316bf541407db02132a3709e6ccf",
       "version_major": 2,
       "version_minor": 0
      },
      "text/plain": [
       "0/537           ETA: ?s - "
      ]
     },
     "metadata": {},
     "output_type": "display_data"
    },
    {
     "name": "stdout",
     "output_type": "stream",
     "text": [
      "Epoch 7/200\n",
      "537/537 [==============================] - 246s 458ms/step - loss: 3.6009 - accuracy: 0.1186 - val_loss: 109824638976.0000 - val_accuracy: 0.1109\n",
      "Epoch 8/200\n"
     ]
    },
    {
     "data": {
      "application/vnd.jupyter.widget-view+json": {
       "model_id": "b4d5009968aa40dd9cd8f63862a8ef1e",
       "version_major": 2,
       "version_minor": 0
      },
      "text/plain": [
       "0/537           ETA: ?s - "
      ]
     },
     "metadata": {},
     "output_type": "display_data"
    },
    {
     "name": "stdout",
     "output_type": "stream",
     "text": [
      "Epoch 8/200\n",
      "537/537 [==============================] - 246s 458ms/step - loss: 3.6001 - accuracy: 0.1188 - val_loss: 102087294976.0000 - val_accuracy: 0.0412\n",
      "Epoch 9/200\n"
     ]
    },
    {
     "data": {
      "application/vnd.jupyter.widget-view+json": {
       "model_id": "4e94664734564ecd83a05b4105a8dcea",
       "version_major": 2,
       "version_minor": 0
      },
      "text/plain": [
       "0/537           ETA: ?s - "
      ]
     },
     "metadata": {},
     "output_type": "display_data"
    },
    {
     "name": "stdout",
     "output_type": "stream",
     "text": [
      "Epoch 9/200\n",
      "537/537 [==============================] - 248s 462ms/step - loss: 3.6009 - accuracy: 0.1185 - val_loss: 112056369152.0000 - val_accuracy: 0.0396\n",
      "Epoch 10/200\n"
     ]
    },
    {
     "data": {
      "application/vnd.jupyter.widget-view+json": {
       "model_id": "32f9823f845d469684003ca6342b4ffc",
       "version_major": 2,
       "version_minor": 0
      },
      "text/plain": [
       "0/537           ETA: ?s - "
      ]
     },
     "metadata": {},
     "output_type": "display_data"
    },
    {
     "name": "stdout",
     "output_type": "stream",
     "text": [
      "Epoch 10/200\n",
      "537/537 [==============================] - 246s 459ms/step - loss: 3.6004 - accuracy: 0.1186 - val_loss: 96178913280.0000 - val_accuracy: 0.1039\n",
      "Epoch 11/200\n"
     ]
    },
    {
     "data": {
      "application/vnd.jupyter.widget-view+json": {
       "model_id": "fcd8c7e9f01043d8af17f6696c5ba2a2",
       "version_major": 2,
       "version_minor": 0
      },
      "text/plain": [
       "0/537           ETA: ?s - "
      ]
     },
     "metadata": {},
     "output_type": "display_data"
    },
    {
     "name": "stdout",
     "output_type": "stream",
     "text": [
      "Epoch 11/200\n",
      "537/537 [==============================] - 246s 458ms/step - loss: 3.6001 - accuracy: 0.1186 - val_loss: 99428925440.0000 - val_accuracy: 0.1106\n",
      "Epoch 12/200\n"
     ]
    },
    {
     "data": {
      "application/vnd.jupyter.widget-view+json": {
       "model_id": "7dde9ee9c1f848408986386844346501",
       "version_major": 2,
       "version_minor": 0
      },
      "text/plain": [
       "0/537           ETA: ?s - "
      ]
     },
     "metadata": {},
     "output_type": "display_data"
    },
    {
     "name": "stdout",
     "output_type": "stream",
     "text": [
      "Epoch 12/200\n",
      "537/537 [==============================] - 252s 468ms/step - loss: 3.5997 - accuracy: 0.1186 - val_loss: 116857888768.0000 - val_accuracy: 0.1044\n",
      "Epoch 13/200\n"
     ]
    },
    {
     "data": {
      "application/vnd.jupyter.widget-view+json": {
       "model_id": "af4984f087d84411818ca499536e5763",
       "version_major": 2,
       "version_minor": 0
      },
      "text/plain": [
       "0/537           ETA: ?s - "
      ]
     },
     "metadata": {},
     "output_type": "display_data"
    },
    {
     "name": "stdout",
     "output_type": "stream",
     "text": [
      "Epoch 13/200\n",
      "537/537 [==============================] - 235s 437ms/step - loss: 3.6010 - accuracy: 0.1187 - val_loss: 91041267712.0000 - val_accuracy: 0.0496\n",
      "Epoch 14/200\n"
     ]
    },
    {
     "data": {
      "application/vnd.jupyter.widget-view+json": {
       "model_id": "19c08f9e10514981842e359e5c8d9a6a",
       "version_major": 2,
       "version_minor": 0
      },
      "text/plain": [
       "0/537           ETA: ?s - "
      ]
     },
     "metadata": {},
     "output_type": "display_data"
    },
    {
     "name": "stdout",
     "output_type": "stream",
     "text": [
      "Epoch 14/200\n",
      "537/537 [==============================] - 234s 435ms/step - loss: 3.6014 - accuracy: 0.1185 - val_loss: 83907616768.0000 - val_accuracy: 0.1060\n",
      "Epoch 15/200\n"
     ]
    },
    {
     "data": {
      "application/vnd.jupyter.widget-view+json": {
       "model_id": "ffc7c63c10ae40a49889bb443a49d01c",
       "version_major": 2,
       "version_minor": 0
      },
      "text/plain": [
       "0/537           ETA: ?s - "
      ]
     },
     "metadata": {},
     "output_type": "display_data"
    },
    {
     "name": "stdout",
     "output_type": "stream",
     "text": [
      "Epoch 15/200\n",
      "537/537 [==============================] - 237s 441ms/step - loss: 3.5986 - accuracy: 0.1186 - val_loss: 71678533632.0000 - val_accuracy: 0.0978\n",
      "Epoch 16/200\n"
     ]
    },
    {
     "data": {
      "application/vnd.jupyter.widget-view+json": {
       "model_id": "37c857f4ca004e4b8aec0365635cebb1",
       "version_major": 2,
       "version_minor": 0
      },
      "text/plain": [
       "0/537           ETA: ?s - "
      ]
     },
     "metadata": {},
     "output_type": "display_data"
    },
    {
     "name": "stdout",
     "output_type": "stream",
     "text": [
      "Epoch 16/200\n",
      "537/537 [==============================] - 240s 446ms/step - loss: 3.6002 - accuracy: 0.1186 - val_loss: 60121522176.0000 - val_accuracy: 0.0550\n",
      "Epoch 17/200\n"
     ]
    },
    {
     "data": {
      "application/vnd.jupyter.widget-view+json": {
       "model_id": "37ec64422945431e872836bc7c47f1c1",
       "version_major": 2,
       "version_minor": 0
      },
      "text/plain": [
       "0/537           ETA: ?s - "
      ]
     },
     "metadata": {},
     "output_type": "display_data"
    },
    {
     "name": "stdout",
     "output_type": "stream",
     "text": [
      "Epoch 17/200\n",
      "537/537 [==============================] - 238s 444ms/step - loss: 3.5999 - accuracy: 0.1182 - val_loss: 86732660736.0000 - val_accuracy: 0.1109\n",
      "Epoch 18/200\n"
     ]
    },
    {
     "data": {
      "application/vnd.jupyter.widget-view+json": {
       "model_id": "4dda400f2e7140c1bc9f7b23c96c7fae",
       "version_major": 2,
       "version_minor": 0
      },
      "text/plain": [
       "0/537           ETA: ?s - "
      ]
     },
     "metadata": {},
     "output_type": "display_data"
    },
    {
     "name": "stdout",
     "output_type": "stream",
     "text": [
      "Epoch 18/200\n",
      "537/537 [==============================] - 236s 440ms/step - loss: 3.5990 - accuracy: 0.1186 - val_loss: 82954346496.0000 - val_accuracy: 0.0121\n",
      "Epoch 19/200\n"
     ]
    },
    {
     "data": {
      "application/vnd.jupyter.widget-view+json": {
       "model_id": "512421d25de144a58c966ceab1fb7187",
       "version_major": 2,
       "version_minor": 0
      },
      "text/plain": [
       "0/537           ETA: ?s - "
      ]
     },
     "metadata": {},
     "output_type": "display_data"
    },
    {
     "name": "stdout",
     "output_type": "stream",
     "text": [
      "Epoch 19/200\n",
      "537/537 [==============================] - 236s 440ms/step - loss: 3.5982 - accuracy: 0.1186 - val_loss: 79369003008.0000 - val_accuracy: 0.0331\n",
      "Epoch 20/200\n"
     ]
    },
    {
     "data": {
      "application/vnd.jupyter.widget-view+json": {
       "model_id": "f6c140a6b5204b168b69cc79f269120f",
       "version_major": 2,
       "version_minor": 0
      },
      "text/plain": [
       "0/537           ETA: ?s - "
      ]
     },
     "metadata": {},
     "output_type": "display_data"
    },
    {
     "name": "stdout",
     "output_type": "stream",
     "text": [
      "Epoch 20/200\n",
      "537/537 [==============================] - 234s 435ms/step - loss: 3.5989 - accuracy: 0.1186 - val_loss: 98391670784.0000 - val_accuracy: 0.0363\n",
      "Epoch 21/200\n"
     ]
    },
    {
     "data": {
      "application/vnd.jupyter.widget-view+json": {
       "model_id": "43e0087ffe044bbbb6f95ad3a85d51da",
       "version_major": 2,
       "version_minor": 0
      },
      "text/plain": [
       "0/537           ETA: ?s - "
      ]
     },
     "metadata": {},
     "output_type": "display_data"
    },
    {
     "name": "stdout",
     "output_type": "stream",
     "text": [
      "Epoch 21/200\n",
      "537/537 [==============================] - 233s 435ms/step - loss: 3.5991 - accuracy: 0.1186 - val_loss: 94609293312.0000 - val_accuracy: 0.0359\n",
      "Epoch 22/200\n"
     ]
    },
    {
     "data": {
      "application/vnd.jupyter.widget-view+json": {
       "model_id": "80a7a1b8a1b74fb799661864fa5ff487",
       "version_major": 2,
       "version_minor": 0
      },
      "text/plain": [
       "0/537           ETA: ?s - "
      ]
     },
     "metadata": {},
     "output_type": "display_data"
    },
    {
     "name": "stdout",
     "output_type": "stream",
     "text": [
      "Epoch 22/200\n",
      "537/537 [==============================] - 233s 434ms/step - loss: 3.5984 - accuracy: 0.1186 - val_loss: 89592422400.0000 - val_accuracy: 0.0415\n",
      "Epoch 23/200\n"
     ]
    },
    {
     "data": {
      "application/vnd.jupyter.widget-view+json": {
       "model_id": "489c35d1ad5b474bbf341d4cc2fc24b1",
       "version_major": 2,
       "version_minor": 0
      },
      "text/plain": [
       "0/537           ETA: ?s - "
      ]
     },
     "metadata": {},
     "output_type": "display_data"
    },
    {
     "name": "stdout",
     "output_type": "stream",
     "text": [
      "Epoch 23/200\n",
      "537/537 [==============================] - 233s 433ms/step - loss: 3.5992 - accuracy: 0.1186 - val_loss: 99831259136.0000 - val_accuracy: 0.0512\n",
      "Epoch 24/200\n"
     ]
    },
    {
     "data": {
      "application/vnd.jupyter.widget-view+json": {
       "model_id": "8362800c170e4ebab835bf53b34b276a",
       "version_major": 2,
       "version_minor": 0
      },
      "text/plain": [
       "0/537           ETA: ?s - "
      ]
     },
     "metadata": {},
     "output_type": "display_data"
    },
    {
     "name": "stdout",
     "output_type": "stream",
     "text": [
      "Epoch 24/200\n",
      "537/537 [==============================] - 237s 440ms/step - loss: 3.5983 - accuracy: 0.1186 - val_loss: 103630888960.0000 - val_accuracy: 0.0312\n",
      "Epoch 25/200\n"
     ]
    },
    {
     "data": {
      "application/vnd.jupyter.widget-view+json": {
       "model_id": "19c18ef6916e45748cfce0d309600d42",
       "version_major": 2,
       "version_minor": 0
      },
      "text/plain": [
       "0/537           ETA: ?s - "
      ]
     },
     "metadata": {},
     "output_type": "display_data"
    },
    {
     "name": "stdout",
     "output_type": "stream",
     "text": [
      "Epoch 25/200\n",
      "537/537 [==============================] - 236s 438ms/step - loss: 3.5984 - accuracy: 0.1186 - val_loss: 102060793856.0000 - val_accuracy: 0.0319\n",
      "Epoch 26/200\n"
     ]
    },
    {
     "data": {
      "application/vnd.jupyter.widget-view+json": {
       "model_id": "40de31a91ab64bbbbd547b0f8435c6b9",
       "version_major": 2,
       "version_minor": 0
      },
      "text/plain": [
       "0/537           ETA: ?s - "
      ]
     },
     "metadata": {},
     "output_type": "display_data"
    },
    {
     "name": "stdout",
     "output_type": "stream",
     "text": [
      "Epoch 26/200\n",
      "537/537 [==============================] - 235s 437ms/step - loss: 3.5994 - accuracy: 0.1186 - val_loss: 117572050944.0000 - val_accuracy: 0.0317\n",
      "Epoch 27/200\n"
     ]
    },
    {
     "data": {
      "application/vnd.jupyter.widget-view+json": {
       "model_id": "1b1ec86c41dd4e9a902aee3d160be5a9",
       "version_major": 2,
       "version_minor": 0
      },
      "text/plain": [
       "0/537           ETA: ?s - "
      ]
     },
     "metadata": {},
     "output_type": "display_data"
    },
    {
     "name": "stdout",
     "output_type": "stream",
     "text": [
      "Epoch 27/200\n",
      "537/537 [==============================] - 234s 435ms/step - loss: 3.5967 - accuracy: 0.1186 - val_loss: 114956828672.0000 - val_accuracy: 0.0256\n",
      "Epoch 28/200\n"
     ]
    },
    {
     "data": {
      "application/vnd.jupyter.widget-view+json": {
       "model_id": "65b6506ff2864e50a86673df8909c435",
       "version_major": 2,
       "version_minor": 0
      },
      "text/plain": [
       "0/537           ETA: ?s - "
      ]
     },
     "metadata": {},
     "output_type": "display_data"
    },
    {
     "name": "stdout",
     "output_type": "stream",
     "text": [
      "Epoch 28/200\n",
      "537/537 [==============================] - 234s 436ms/step - loss: 3.5987 - accuracy: 0.1186 - val_loss: 101572698112.0000 - val_accuracy: 0.0193\n",
      "Epoch 29/200\n"
     ]
    },
    {
     "data": {
      "application/vnd.jupyter.widget-view+json": {
       "model_id": "8b2060f0b63148acadfe0f25c6ea22c1",
       "version_major": 2,
       "version_minor": 0
      },
      "text/plain": [
       "0/537           ETA: ?s - "
      ]
     },
     "metadata": {},
     "output_type": "display_data"
    },
    {
     "name": "stdout",
     "output_type": "stream",
     "text": [
      "Epoch 29/200\n",
      "537/537 [==============================] - 234s 435ms/step - loss: 3.5979 - accuracy: 0.1186 - val_loss: 101467054080.0000 - val_accuracy: 0.0373\n",
      "Epoch 30/200\n"
     ]
    },
    {
     "data": {
      "application/vnd.jupyter.widget-view+json": {
       "model_id": "e386861157064cc3914b1a6dba8051bf",
       "version_major": 2,
       "version_minor": 0
      },
      "text/plain": [
       "0/537           ETA: ?s - "
      ]
     },
     "metadata": {},
     "output_type": "display_data"
    },
    {
     "name": "stdout",
     "output_type": "stream",
     "text": [
      "Epoch 30/200\n",
      "537/537 [==============================] - 233s 434ms/step - loss: 3.5977 - accuracy: 0.1186 - val_loss: 96006995968.0000 - val_accuracy: 0.0389\n",
      "Epoch 31/200\n"
     ]
    },
    {
     "data": {
      "application/vnd.jupyter.widget-view+json": {
       "model_id": "52611b05c6be486eba23e6e5658a75e4",
       "version_major": 2,
       "version_minor": 0
      },
      "text/plain": [
       "0/537           ETA: ?s - "
      ]
     },
     "metadata": {},
     "output_type": "display_data"
    },
    {
     "name": "stdout",
     "output_type": "stream",
     "text": [
      "Epoch 31/200\n",
      "537/537 [==============================] - 233s 434ms/step - loss: 3.5972 - accuracy: 0.1186 - val_loss: 124492693504.0000 - val_accuracy: 0.0519\n",
      "Epoch 32/200\n"
     ]
    },
    {
     "data": {
      "application/vnd.jupyter.widget-view+json": {
       "model_id": "643616db1cfd46e594f276bc35cc4c97",
       "version_major": 2,
       "version_minor": 0
      },
      "text/plain": [
       "0/537           ETA: ?s - "
      ]
     },
     "metadata": {},
     "output_type": "display_data"
    },
    {
     "name": "stdout",
     "output_type": "stream",
     "text": [
      "Epoch 32/200\n",
      "537/537 [==============================] - 236s 439ms/step - loss: 3.5973 - accuracy: 0.1186 - val_loss: 102383542272.0000 - val_accuracy: 0.0478\n",
      "Epoch 33/200\n"
     ]
    },
    {
     "data": {
      "application/vnd.jupyter.widget-view+json": {
       "model_id": "37aac8edb41f40d49c6789f3e382453f",
       "version_major": 2,
       "version_minor": 0
      },
      "text/plain": [
       "0/537           ETA: ?s - "
      ]
     },
     "metadata": {},
     "output_type": "display_data"
    },
    {
     "name": "stdout",
     "output_type": "stream",
     "text": [
      "Epoch 33/200\n",
      "537/537 [==============================] - 234s 437ms/step - loss: 3.5976 - accuracy: 0.1186 - val_loss: 87048953856.0000 - val_accuracy: 0.0144\n",
      "Epoch 34/200\n"
     ]
    },
    {
     "data": {
      "application/vnd.jupyter.widget-view+json": {
       "model_id": "4d23978e36634703bd67dff13fd6f365",
       "version_major": 2,
       "version_minor": 0
      },
      "text/plain": [
       "0/537           ETA: ?s - "
      ]
     },
     "metadata": {},
     "output_type": "display_data"
    },
    {
     "name": "stdout",
     "output_type": "stream",
     "text": [
      "Epoch 34/200\n",
      "537/537 [==============================] - 235s 438ms/step - loss: 3.5981 - accuracy: 0.1186 - val_loss: 107230027776.0000 - val_accuracy: 0.0224\n",
      "Epoch 35/200\n"
     ]
    },
    {
     "data": {
      "application/vnd.jupyter.widget-view+json": {
       "model_id": "8a0adb8d1edd4e3593edc593f7767ae7",
       "version_major": 2,
       "version_minor": 0
      },
      "text/plain": [
       "0/537           ETA: ?s - "
      ]
     },
     "metadata": {},
     "output_type": "display_data"
    },
    {
     "name": "stdout",
     "output_type": "stream",
     "text": [
      "Epoch 35/200\n",
      "537/537 [==============================] - 234s 435ms/step - loss: 3.5988 - accuracy: 0.1186 - val_loss: 95735791616.0000 - val_accuracy: 0.0112\n",
      "Epoch 36/200\n"
     ]
    },
    {
     "data": {
      "application/vnd.jupyter.widget-view+json": {
       "model_id": "2e94d35b135a44479f5ea169908b5dc8",
       "version_major": 2,
       "version_minor": 0
      },
      "text/plain": [
       "0/537           ETA: ?s - "
      ]
     },
     "metadata": {},
     "output_type": "display_data"
    },
    {
     "name": "stdout",
     "output_type": "stream",
     "text": [
      "Epoch 36/200\n",
      "537/537 [==============================] - 234s 436ms/step - loss: 3.5968 - accuracy: 0.1185 - val_loss: 135591182336.0000 - val_accuracy: 0.0140\n",
      "Epoch 37/200\n"
     ]
    },
    {
     "data": {
      "application/vnd.jupyter.widget-view+json": {
       "model_id": "861f68a1416d43ae948861e502ebb1cd",
       "version_major": 2,
       "version_minor": 0
      },
      "text/plain": [
       "0/537           ETA: ?s - "
      ]
     },
     "metadata": {},
     "output_type": "display_data"
    },
    {
     "name": "stdout",
     "output_type": "stream",
     "text": [
      "Epoch 37/200\n",
      "537/537 [==============================] - 235s 437ms/step - loss: 3.5979 - accuracy: 0.1185 - val_loss: 104093261824.0000 - val_accuracy: 0.0154\n",
      "Epoch 38/200\n"
     ]
    },
    {
     "data": {
      "application/vnd.jupyter.widget-view+json": {
       "model_id": "f1b9a02dc2af4f49925a1fe282322234",
       "version_major": 2,
       "version_minor": 0
      },
      "text/plain": [
       "0/537           ETA: ?s - "
      ]
     },
     "metadata": {},
     "output_type": "display_data"
    },
    {
     "name": "stdout",
     "output_type": "stream",
     "text": [
      "Epoch 38/200\n",
      "537/537 [==============================] - 235s 437ms/step - loss: 3.5964 - accuracy: 0.1187 - val_loss: 125103685632.0000 - val_accuracy: 0.0193\n",
      "Epoch 39/200\n"
     ]
    },
    {
     "data": {
      "application/vnd.jupyter.widget-view+json": {
       "model_id": "f4f83aa559ec44348a43f8f42b6e1154",
       "version_major": 2,
       "version_minor": 0
      },
      "text/plain": [
       "0/537           ETA: ?s - "
      ]
     },
     "metadata": {},
     "output_type": "display_data"
    },
    {
     "name": "stdout",
     "output_type": "stream",
     "text": [
      "Epoch 39/200\n",
      "537/537 [==============================] - 234s 435ms/step - loss: 3.5973 - accuracy: 0.1185 - val_loss: 140721717248.0000 - val_accuracy: 0.0140\n",
      "Epoch 40/200\n"
     ]
    },
    {
     "data": {
      "application/vnd.jupyter.widget-view+json": {
       "model_id": "b173ab7db30043e8ba4a13820fe05ce3",
       "version_major": 2,
       "version_minor": 0
      },
      "text/plain": [
       "0/537           ETA: ?s - "
      ]
     },
     "metadata": {},
     "output_type": "display_data"
    },
    {
     "name": "stdout",
     "output_type": "stream",
     "text": [
      "Epoch 40/200\n",
      "537/537 [==============================] - 236s 439ms/step - loss: 3.5976 - accuracy: 0.1186 - val_loss: 139235573760.0000 - val_accuracy: 0.0147\n",
      "Epoch 41/200\n"
     ]
    },
    {
     "data": {
      "application/vnd.jupyter.widget-view+json": {
       "model_id": "928abdce959145e592109d0ab5f622ce",
       "version_major": 2,
       "version_minor": 0
      },
      "text/plain": [
       "0/537           ETA: ?s - "
      ]
     },
     "metadata": {},
     "output_type": "display_data"
    },
    {
     "name": "stdout",
     "output_type": "stream",
     "text": [
      "Epoch 41/200\n",
      "537/537 [==============================] - 237s 440ms/step - loss: 3.5970 - accuracy: 0.1186 - val_loss: 162988687360.0000 - val_accuracy: 0.0140\n",
      "Epoch 42/200\n"
     ]
    },
    {
     "data": {
      "application/vnd.jupyter.widget-view+json": {
       "model_id": "999f98a98750440996987a636ed6eda4",
       "version_major": 2,
       "version_minor": 0
      },
      "text/plain": [
       "0/537           ETA: ?s - "
      ]
     },
     "metadata": {},
     "output_type": "display_data"
    },
    {
     "name": "stdout",
     "output_type": "stream",
     "text": [
      "Epoch 42/200\n",
      "537/537 [==============================] - 234s 436ms/step - loss: 3.5975 - accuracy: 0.1186 - val_loss: 136521220096.0000 - val_accuracy: 0.0165\n",
      "Epoch 43/200\n"
     ]
    },
    {
     "data": {
      "application/vnd.jupyter.widget-view+json": {
       "model_id": "7b0341b05d0e492c92662ee67f602aae",
       "version_major": 2,
       "version_minor": 0
      },
      "text/plain": [
       "0/537           ETA: ?s - "
      ]
     },
     "metadata": {},
     "output_type": "display_data"
    },
    {
     "name": "stdout",
     "output_type": "stream",
     "text": [
      "Epoch 43/200\n",
      "537/537 [==============================] - 235s 437ms/step - loss: 3.5973 - accuracy: 0.1186 - val_loss: 130221178880.0000 - val_accuracy: 0.0165\n",
      "Epoch 44/200\n"
     ]
    },
    {
     "data": {
      "application/vnd.jupyter.widget-view+json": {
       "model_id": "3d72f062d1f2481c977ba232b9bf06df",
       "version_major": 2,
       "version_minor": 0
      },
      "text/plain": [
       "0/537           ETA: ?s - "
      ]
     },
     "metadata": {},
     "output_type": "display_data"
    },
    {
     "name": "stdout",
     "output_type": "stream",
     "text": [
      "Epoch 44/200\n",
      "537/537 [==============================] - 236s 439ms/step - loss: 3.5966 - accuracy: 0.1185 - val_loss: 140568117248.0000 - val_accuracy: 0.0144\n",
      "Epoch 45/200\n"
     ]
    },
    {
     "data": {
      "application/vnd.jupyter.widget-view+json": {
       "model_id": "9d47f006f560452c89b0cb3e7e5bb5e1",
       "version_major": 2,
       "version_minor": 0
      },
      "text/plain": [
       "0/537           ETA: ?s - "
      ]
     },
     "metadata": {},
     "output_type": "display_data"
    },
    {
     "name": "stdout",
     "output_type": "stream",
     "text": [
      "Epoch 45/200\n",
      "537/537 [==============================] - 235s 438ms/step - loss: 3.5974 - accuracy: 0.1185 - val_loss: 151399317504.0000 - val_accuracy: 0.0154\n",
      "Epoch 46/200\n"
     ]
    },
    {
     "data": {
      "application/vnd.jupyter.widget-view+json": {
       "model_id": "5ee5839c0e4c41d59e91df22e5511d04",
       "version_major": 2,
       "version_minor": 0
      },
      "text/plain": [
       "0/537           ETA: ?s - "
      ]
     },
     "metadata": {},
     "output_type": "display_data"
    },
    {
     "name": "stdout",
     "output_type": "stream",
     "text": [
      "Epoch 46/200\n",
      "537/537 [==============================] - 237s 441ms/step - loss: 3.5966 - accuracy: 0.1186 - val_loss: 152181440512.0000 - val_accuracy: 0.0154\n",
      "Epoch 47/200\n"
     ]
    },
    {
     "data": {
      "application/vnd.jupyter.widget-view+json": {
       "model_id": "80ea4e082cb448ad8e995df27d507bec",
       "version_major": 2,
       "version_minor": 0
      },
      "text/plain": [
       "0/537           ETA: ?s - "
      ]
     },
     "metadata": {},
     "output_type": "display_data"
    },
    {
     "name": "stdout",
     "output_type": "stream",
     "text": [
      "Epoch 47/200\n",
      "537/537 [==============================] - 235s 438ms/step - loss: 3.5963 - accuracy: 0.1186 - val_loss: 166668943360.0000 - val_accuracy: 0.0321\n",
      "Epoch 48/200\n"
     ]
    },
    {
     "data": {
      "application/vnd.jupyter.widget-view+json": {
       "model_id": "04175dc266db4f6aa44562477457bf43",
       "version_major": 2,
       "version_minor": 0
      },
      "text/plain": [
       "0/537           ETA: ?s - "
      ]
     },
     "metadata": {},
     "output_type": "display_data"
    },
    {
     "name": "stdout",
     "output_type": "stream",
     "text": [
      "Epoch 48/200\n",
      "537/537 [==============================] - 235s 437ms/step - loss: 3.5982 - accuracy: 0.1186 - val_loss: 164509286400.0000 - val_accuracy: 0.0326\n",
      "Epoch 49/200\n"
     ]
    },
    {
     "data": {
      "application/vnd.jupyter.widget-view+json": {
       "model_id": "ccd9603d68cf4dc8805c155101c273d9",
       "version_major": 2,
       "version_minor": 0
      },
      "text/plain": [
       "0/537           ETA: ?s - "
      ]
     },
     "metadata": {},
     "output_type": "display_data"
    },
    {
     "name": "stdout",
     "output_type": "stream",
     "text": [
      "Epoch 49/200\n",
      "537/537 [==============================] - 234s 435ms/step - loss: 3.5972 - accuracy: 0.1186 - val_loss: 153922093056.0000 - val_accuracy: 0.0324\n",
      "Epoch 50/200\n"
     ]
    },
    {
     "data": {
      "application/vnd.jupyter.widget-view+json": {
       "model_id": "df2b62cc84d4476884d1bf90523993c2",
       "version_major": 2,
       "version_minor": 0
      },
      "text/plain": [
       "0/537           ETA: ?s - "
      ]
     },
     "metadata": {},
     "output_type": "display_data"
    },
    {
     "name": "stdout",
     "output_type": "stream",
     "text": [
      "Epoch 50/200\n",
      "537/537 [==============================] - 234s 435ms/step - loss: 3.5961 - accuracy: 0.1186 - val_loss: 173970653184.0000 - val_accuracy: 0.0140\n",
      "Epoch 51/200\n"
     ]
    },
    {
     "data": {
      "application/vnd.jupyter.widget-view+json": {
       "model_id": "7905546d6d7c4295959d94d4a1377d4c",
       "version_major": 2,
       "version_minor": 0
      },
      "text/plain": [
       "0/537           ETA: ?s - "
      ]
     },
     "metadata": {},
     "output_type": "display_data"
    },
    {
     "name": "stdout",
     "output_type": "stream",
     "text": [
      "Epoch 51/200\n",
      "537/537 [==============================] - 234s 435ms/step - loss: 3.5961 - accuracy: 0.1187 - val_loss: 162196504576.0000 - val_accuracy: 0.0142\n",
      "Epoch 52/200\n"
     ]
    },
    {
     "data": {
      "application/vnd.jupyter.widget-view+json": {
       "model_id": "d6ed0f8f429543e29ea2dfe7a074be23",
       "version_major": 2,
       "version_minor": 0
      },
      "text/plain": [
       "0/537           ETA: ?s - "
      ]
     },
     "metadata": {},
     "output_type": "display_data"
    },
    {
     "name": "stdout",
     "output_type": "stream",
     "text": [
      "Epoch 52/200\n",
      "537/537 [==============================] - 234s 435ms/step - loss: 3.5958 - accuracy: 0.1186 - val_loss: 143478489088.0000 - val_accuracy: 0.0147\n",
      "Epoch 53/200\n"
     ]
    },
    {
     "data": {
      "application/vnd.jupyter.widget-view+json": {
       "model_id": "e69c1cf7aa8c434a8091792555d9f9b5",
       "version_major": 2,
       "version_minor": 0
      },
      "text/plain": [
       "0/537           ETA: ?s - "
      ]
     },
     "metadata": {},
     "output_type": "display_data"
    },
    {
     "name": "stdout",
     "output_type": "stream",
     "text": [
      "Epoch 53/200\n",
      "537/537 [==============================] - 236s 439ms/step - loss: 3.5956 - accuracy: 0.1186 - val_loss: 164798611456.0000 - val_accuracy: 0.0140\n",
      "Epoch 54/200\n"
     ]
    },
    {
     "data": {
      "application/vnd.jupyter.widget-view+json": {
       "model_id": "d5b6cd2212f242f6b458b260bafba25e",
       "version_major": 2,
       "version_minor": 0
      },
      "text/plain": [
       "0/537           ETA: ?s - "
      ]
     },
     "metadata": {},
     "output_type": "display_data"
    },
    {
     "name": "stdout",
     "output_type": "stream",
     "text": [
      "Epoch 54/200\n",
      "537/537 [==============================] - 231s 430ms/step - loss: 3.5963 - accuracy: 0.1177 - val_loss: 180059750400.0000 - val_accuracy: 0.0140\n",
      "Epoch 55/200\n"
     ]
    },
    {
     "data": {
      "application/vnd.jupyter.widget-view+json": {
       "model_id": "ea3c8c4d51834626a0f866c7ca328ed0",
       "version_major": 2,
       "version_minor": 0
      },
      "text/plain": [
       "0/537           ETA: ?s - "
      ]
     },
     "metadata": {},
     "output_type": "display_data"
    },
    {
     "name": "stdout",
     "output_type": "stream",
     "text": [
      "Epoch 55/200\n",
      "537/537 [==============================] - 233s 434ms/step - loss: 3.5968 - accuracy: 0.1186 - val_loss: 163239100416.0000 - val_accuracy: 0.0140\n",
      "Epoch 56/200\n"
     ]
    },
    {
     "data": {
      "application/vnd.jupyter.widget-view+json": {
       "model_id": "49b36c280ad5445cb570fbcb72d8d311",
       "version_major": 2,
       "version_minor": 0
      },
      "text/plain": [
       "0/537           ETA: ?s - "
      ]
     },
     "metadata": {},
     "output_type": "display_data"
    },
    {
     "name": "stdout",
     "output_type": "stream",
     "text": [
      "Epoch 56/200\n",
      "537/537 [==============================] - 232s 432ms/step - loss: 3.5959 - accuracy: 0.1186 - val_loss: 157552869376.0000 - val_accuracy: 0.0030\n",
      "Epoch 57/200\n"
     ]
    },
    {
     "data": {
      "application/vnd.jupyter.widget-view+json": {
       "model_id": "89787dc68dc5478da264ba9b47d34668",
       "version_major": 2,
       "version_minor": 0
      },
      "text/plain": [
       "0/537           ETA: ?s - "
      ]
     },
     "metadata": {},
     "output_type": "display_data"
    },
    {
     "name": "stdout",
     "output_type": "stream",
     "text": [
      "Epoch 57/200\n",
      "537/537 [==============================] - 231s 429ms/step - loss: 3.5959 - accuracy: 0.1186 - val_loss: 155968241664.0000 - val_accuracy: 0.0030\n",
      "Epoch 58/200\n"
     ]
    },
    {
     "data": {
      "application/vnd.jupyter.widget-view+json": {
       "model_id": "446f054595e6480dbc283250fb641465",
       "version_major": 2,
       "version_minor": 0
      },
      "text/plain": [
       "0/537           ETA: ?s - "
      ]
     },
     "metadata": {},
     "output_type": "display_data"
    },
    {
     "name": "stdout",
     "output_type": "stream",
     "text": [
      "Epoch 58/200\n",
      "537/537 [==============================] - 230s 428ms/step - loss: 3.5968 - accuracy: 0.1186 - val_loss: 158412800000.0000 - val_accuracy: 0.0030\n",
      "Epoch 59/200\n"
     ]
    },
    {
     "data": {
      "application/vnd.jupyter.widget-view+json": {
       "model_id": "fad8d4e143cb49199834a1088084bded",
       "version_major": 2,
       "version_minor": 0
      },
      "text/plain": [
       "0/537           ETA: ?s - "
      ]
     },
     "metadata": {},
     "output_type": "display_data"
    },
    {
     "name": "stdout",
     "output_type": "stream",
     "text": [
      "Epoch 59/200\n",
      "537/537 [==============================] - 230s 427ms/step - loss: 3.5965 - accuracy: 0.1186 - val_loss: 146784092160.0000 - val_accuracy: 0.0051\n",
      "Epoch 60/200\n"
     ]
    },
    {
     "data": {
      "application/vnd.jupyter.widget-view+json": {
       "model_id": "b56bc86150074a0fb0b61aa76fa1274d",
       "version_major": 2,
       "version_minor": 0
      },
      "text/plain": [
       "0/537           ETA: ?s - "
      ]
     },
     "metadata": {},
     "output_type": "display_data"
    },
    {
     "name": "stdout",
     "output_type": "stream",
     "text": [
      "Epoch 60/200\n",
      "537/537 [==============================] - 230s 427ms/step - loss: 3.5961 - accuracy: 0.1186 - val_loss: 192625328128.0000 - val_accuracy: 0.0054\n",
      "Epoch 61/200\n"
     ]
    },
    {
     "data": {
      "application/vnd.jupyter.widget-view+json": {
       "model_id": "807bb038f608432eb56d2b8e99805c7e",
       "version_major": 2,
       "version_minor": 0
      },
      "text/plain": [
       "0/537           ETA: ?s - "
      ]
     },
     "metadata": {},
     "output_type": "display_data"
    },
    {
     "name": "stdout",
     "output_type": "stream",
     "text": [
      "Epoch 61/200\n",
      "537/537 [==============================] - 230s 427ms/step - loss: 3.5971 - accuracy: 0.1186 - val_loss: 205131874304.0000 - val_accuracy: 0.0054\n",
      "Epoch 62/200\n"
     ]
    },
    {
     "data": {
      "application/vnd.jupyter.widget-view+json": {
       "model_id": "c6bb1c3da6af47ee97dfb52d9752b787",
       "version_major": 2,
       "version_minor": 0
      },
      "text/plain": [
       "0/537           ETA: ?s - "
      ]
     },
     "metadata": {},
     "output_type": "display_data"
    },
    {
     "name": "stdout",
     "output_type": "stream",
     "text": [
      "Epoch 62/200\n",
      "537/537 [==============================] - 230s 428ms/step - loss: 3.5963 - accuracy: 0.1185 - val_loss: 199541899264.0000 - val_accuracy: 0.0054\n",
      "Epoch 63/200\n"
     ]
    },
    {
     "data": {
      "application/vnd.jupyter.widget-view+json": {
       "model_id": "5c5a9bd2aff44cb78bca8f6adf157bbd",
       "version_major": 2,
       "version_minor": 0
      },
      "text/plain": [
       "0/537           ETA: ?s - "
      ]
     },
     "metadata": {},
     "output_type": "display_data"
    },
    {
     "name": "stdout",
     "output_type": "stream",
     "text": [
      "Epoch 63/200\n",
      "537/537 [==============================] - 233s 434ms/step - loss: 3.5968 - accuracy: 0.1186 - val_loss: 183291199488.0000 - val_accuracy: 0.0054\n",
      "Epoch 64/200\n"
     ]
    },
    {
     "data": {
      "application/vnd.jupyter.widget-view+json": {
       "model_id": "35b4a344ccfd46a3afa5620afc23a683",
       "version_major": 2,
       "version_minor": 0
      },
      "text/plain": [
       "0/537           ETA: ?s - "
      ]
     },
     "metadata": {},
     "output_type": "display_data"
    },
    {
     "name": "stdout",
     "output_type": "stream",
     "text": [
      "Epoch 64/200\n",
      "537/537 [==============================] - 231s 429ms/step - loss: 3.5958 - accuracy: 0.1186 - val_loss: 194786967552.0000 - val_accuracy: 0.0054\n",
      "Epoch 65/200\n"
     ]
    },
    {
     "data": {
      "application/vnd.jupyter.widget-view+json": {
       "model_id": "ef13fdb6c39e4b97b53ff904163966d7",
       "version_major": 2,
       "version_minor": 0
      },
      "text/plain": [
       "0/537           ETA: ?s - "
      ]
     },
     "metadata": {},
     "output_type": "display_data"
    },
    {
     "name": "stdout",
     "output_type": "stream",
     "text": [
      "Epoch 65/200\n",
      "537/537 [==============================] - 231s 430ms/step - loss: 3.5971 - accuracy: 0.1186 - val_loss: 201727590400.0000 - val_accuracy: 0.0054\n",
      "Epoch 66/200\n"
     ]
    },
    {
     "data": {
      "application/vnd.jupyter.widget-view+json": {
       "model_id": "f13faff8f2fa4c6e98c8ddf80b99b546",
       "version_major": 2,
       "version_minor": 0
      },
      "text/plain": [
       "0/537           ETA: ?s - "
      ]
     },
     "metadata": {},
     "output_type": "display_data"
    },
    {
     "name": "stdout",
     "output_type": "stream",
     "text": [
      "Epoch 66/200\n",
      "537/537 [==============================] - 230s 429ms/step - loss: 3.5948 - accuracy: 0.1186 - val_loss: 185883164672.0000 - val_accuracy: 0.0054\n",
      "Epoch 67/200\n"
     ]
    },
    {
     "data": {
      "application/vnd.jupyter.widget-view+json": {
       "model_id": "f2308a26c4274aa5a9a8a7ccfe6cf1e2",
       "version_major": 2,
       "version_minor": 0
      },
      "text/plain": [
       "0/537           ETA: ?s - "
      ]
     },
     "metadata": {},
     "output_type": "display_data"
    },
    {
     "name": "stdout",
     "output_type": "stream",
     "text": [
      "Epoch 67/200\n",
      "537/537 [==============================] - 230s 429ms/step - loss: 3.5960 - accuracy: 0.1186 - val_loss: 194963456000.0000 - val_accuracy: 0.0054\n",
      "Epoch 68/200\n"
     ]
    },
    {
     "data": {
      "application/vnd.jupyter.widget-view+json": {
       "model_id": "c47222dd2aa94560a59d8efce7f0d6c4",
       "version_major": 2,
       "version_minor": 0
      },
      "text/plain": [
       "0/537           ETA: ?s - "
      ]
     },
     "metadata": {},
     "output_type": "display_data"
    },
    {
     "name": "stdout",
     "output_type": "stream",
     "text": [
      "Epoch 68/200\n",
      "537/537 [==============================] - 230s 428ms/step - loss: 3.5963 - accuracy: 0.1186 - val_loss: 207759212544.0000 - val_accuracy: 0.0054\n",
      "Epoch 69/200\n"
     ]
    },
    {
     "data": {
      "application/vnd.jupyter.widget-view+json": {
       "model_id": "561308187ee8491ba73d4b033622cfba",
       "version_major": 2,
       "version_minor": 0
      },
      "text/plain": [
       "0/537           ETA: ?s - "
      ]
     },
     "metadata": {},
     "output_type": "display_data"
    },
    {
     "name": "stdout",
     "output_type": "stream",
     "text": [
      "Epoch 69/200\n",
      "537/537 [==============================] - 230s 428ms/step - loss: 3.5963 - accuracy: 0.1185 - val_loss: 188340600832.0000 - val_accuracy: 0.0054\n",
      "Epoch 70/200\n"
     ]
    },
    {
     "data": {
      "application/vnd.jupyter.widget-view+json": {
       "model_id": "5e13302d268c46089a8ef211f93a0953",
       "version_major": 2,
       "version_minor": 0
      },
      "text/plain": [
       "0/537           ETA: ?s - "
      ]
     },
     "metadata": {},
     "output_type": "display_data"
    },
    {
     "name": "stdout",
     "output_type": "stream",
     "text": [
      "Epoch 70/200\n",
      "537/537 [==============================] - 235s 438ms/step - loss: 3.5958 - accuracy: 0.1186 - val_loss: 181405073408.0000 - val_accuracy: 0.0054\n",
      "Epoch 71/200\n"
     ]
    },
    {
     "data": {
      "application/vnd.jupyter.widget-view+json": {
       "model_id": "8497d3d5484443f39978d9b9bc33e2a6",
       "version_major": 2,
       "version_minor": 0
      },
      "text/plain": [
       "0/537           ETA: ?s - "
      ]
     },
     "metadata": {},
     "output_type": "display_data"
    },
    {
     "name": "stdout",
     "output_type": "stream",
     "text": [
      "Epoch 71/200\n",
      "537/537 [==============================] - 239s 445ms/step - loss: 3.5965 - accuracy: 0.1186 - val_loss: 207428075520.0000 - val_accuracy: 0.0054\n",
      "Epoch 72/200\n"
     ]
    },
    {
     "data": {
      "application/vnd.jupyter.widget-view+json": {
       "model_id": "0b96c81f62da4b9881ccca3f7d0f8f32",
       "version_major": 2,
       "version_minor": 0
      },
      "text/plain": [
       "0/537           ETA: ?s - "
      ]
     },
     "metadata": {},
     "output_type": "display_data"
    },
    {
     "name": "stdout",
     "output_type": "stream",
     "text": [
      "Epoch 72/200\n",
      "537/537 [==============================] - 239s 445ms/step - loss: 3.5964 - accuracy: 0.1186 - val_loss: 221195763712.0000 - val_accuracy: 0.0054\n",
      "Epoch 73/200\n"
     ]
    },
    {
     "data": {
      "application/vnd.jupyter.widget-view+json": {
       "model_id": "f05ff66174634453bff0dfc19d30d8aa",
       "version_major": 2,
       "version_minor": 0
      },
      "text/plain": [
       "0/537           ETA: ?s - "
      ]
     },
     "metadata": {},
     "output_type": "display_data"
    },
    {
     "name": "stdout",
     "output_type": "stream",
     "text": [
      "Epoch 73/200\n",
      "537/537 [==============================] - 239s 444ms/step - loss: 3.5945 - accuracy: 0.1186 - val_loss: 209334763520.0000 - val_accuracy: 0.0056\n",
      "Epoch 74/200\n"
     ]
    },
    {
     "data": {
      "application/vnd.jupyter.widget-view+json": {
       "model_id": "04b0186bfb524ea6b97201aa7b143ecf",
       "version_major": 2,
       "version_minor": 0
      },
      "text/plain": [
       "0/537           ETA: ?s - "
      ]
     },
     "metadata": {},
     "output_type": "display_data"
    },
    {
     "name": "stdout",
     "output_type": "stream",
     "text": [
      "Epoch 74/200\n",
      "537/537 [==============================] - 238s 443ms/step - loss: 3.5965 - accuracy: 0.1186 - val_loss: 183199465472.0000 - val_accuracy: 0.0061\n",
      "Epoch 75/200\n"
     ]
    },
    {
     "data": {
      "application/vnd.jupyter.widget-view+json": {
       "model_id": "f7f7b4e5ff71404980dfdc836495512d",
       "version_major": 2,
       "version_minor": 0
      },
      "text/plain": [
       "0/537           ETA: ?s - "
      ]
     },
     "metadata": {},
     "output_type": "display_data"
    },
    {
     "name": "stdout",
     "output_type": "stream",
     "text": [
      "Epoch 75/200\n",
      "537/537 [==============================] - 239s 445ms/step - loss: 3.5960 - accuracy: 0.1186 - val_loss: 198612041728.0000 - val_accuracy: 0.0054\n",
      "Epoch 76/200\n"
     ]
    },
    {
     "data": {
      "application/vnd.jupyter.widget-view+json": {
       "model_id": "21ef6757f3fe42af8528b01c4e6da2fa",
       "version_major": 2,
       "version_minor": 0
      },
      "text/plain": [
       "0/537           ETA: ?s - "
      ]
     },
     "metadata": {},
     "output_type": "display_data"
    },
    {
     "name": "stdout",
     "output_type": "stream",
     "text": [
      "Epoch 76/200\n",
      "537/537 [==============================] - 240s 447ms/step - loss: 3.5956 - accuracy: 0.1186 - val_loss: 188770304000.0000 - val_accuracy: 0.0056\n",
      "Epoch 77/200\n"
     ]
    },
    {
     "data": {
      "application/vnd.jupyter.widget-view+json": {
       "model_id": "46e85bd70ecc4143b6d309af2680f8af",
       "version_major": 2,
       "version_minor": 0
      },
      "text/plain": [
       "0/537           ETA: ?s - "
      ]
     },
     "metadata": {},
     "output_type": "display_data"
    },
    {
     "name": "stdout",
     "output_type": "stream",
     "text": [
      "Epoch 77/200\n",
      "537/537 [==============================] - 239s 445ms/step - loss: 3.5956 - accuracy: 0.1186 - val_loss: 186990444544.0000 - val_accuracy: 0.0028\n",
      "Epoch 78/200\n"
     ]
    },
    {
     "data": {
      "application/vnd.jupyter.widget-view+json": {
       "model_id": "1bb9235c118f4d81b23a037fd31174d4",
       "version_major": 2,
       "version_minor": 0
      },
      "text/plain": [
       "0/537           ETA: ?s - "
      ]
     },
     "metadata": {},
     "output_type": "display_data"
    },
    {
     "name": "stdout",
     "output_type": "stream",
     "text": [
      "Epoch 78/200\n",
      "537/537 [==============================] - 241s 448ms/step - loss: 3.5952 - accuracy: 0.1186 - val_loss: 166674857984.0000 - val_accuracy: 0.0079\n",
      "Epoch 79/200\n"
     ]
    },
    {
     "data": {
      "application/vnd.jupyter.widget-view+json": {
       "model_id": "ee907ede6cf64ddca6e58a0ebd77fc39",
       "version_major": 2,
       "version_minor": 0
      },
      "text/plain": [
       "0/537           ETA: ?s - "
      ]
     },
     "metadata": {},
     "output_type": "display_data"
    },
    {
     "name": "stdout",
     "output_type": "stream",
     "text": [
      "Epoch 79/200\n",
      "537/537 [==============================] - 240s 447ms/step - loss: 3.5965 - accuracy: 0.1186 - val_loss: 180605992960.0000 - val_accuracy: 0.0109\n",
      "Epoch 80/200\n"
     ]
    },
    {
     "data": {
      "application/vnd.jupyter.widget-view+json": {
       "model_id": "bfbeef5263f747cd961782cab4ba6511",
       "version_major": 2,
       "version_minor": 0
      },
      "text/plain": [
       "0/537           ETA: ?s - "
      ]
     },
     "metadata": {},
     "output_type": "display_data"
    },
    {
     "name": "stdout",
     "output_type": "stream",
     "text": [
      "Epoch 80/200\n",
      "537/537 [==============================] - 241s 448ms/step - loss: 3.5958 - accuracy: 0.1186 - val_loss: 162846375936.0000 - val_accuracy: 0.0105\n",
      "Epoch 81/200\n"
     ]
    },
    {
     "data": {
      "application/vnd.jupyter.widget-view+json": {
       "model_id": "70cffb0d51ce42988bc41a528575eaf0",
       "version_major": 2,
       "version_minor": 0
      },
      "text/plain": [
       "0/537           ETA: ?s - "
      ]
     },
     "metadata": {},
     "output_type": "display_data"
    },
    {
     "name": "stdout",
     "output_type": "stream",
     "text": [
      "Epoch 81/200\n",
      "537/537 [==============================] - 242s 451ms/step - loss: 3.5965 - accuracy: 0.1186 - val_loss: 168594341888.0000 - val_accuracy: 0.0109\n",
      "Epoch 82/200\n"
     ]
    },
    {
     "data": {
      "application/vnd.jupyter.widget-view+json": {
       "model_id": "d0e91002ca8a43658af7768a37acf970",
       "version_major": 2,
       "version_minor": 0
      },
      "text/plain": [
       "0/537           ETA: ?s - "
      ]
     },
     "metadata": {},
     "output_type": "display_data"
    },
    {
     "name": "stdout",
     "output_type": "stream",
     "text": [
      "Epoch 82/200\n",
      "537/537 [==============================] - 238s 443ms/step - loss: 3.5961 - accuracy: 0.1186 - val_loss: 167852752896.0000 - val_accuracy: 0.0075\n",
      "Epoch 83/200\n"
     ]
    },
    {
     "data": {
      "application/vnd.jupyter.widget-view+json": {
       "model_id": "9101638d9af742b5ad468e75d8c5456f",
       "version_major": 2,
       "version_minor": 0
      },
      "text/plain": [
       "0/537           ETA: ?s - "
      ]
     },
     "metadata": {},
     "output_type": "display_data"
    },
    {
     "name": "stdout",
     "output_type": "stream",
     "text": [
      "Epoch 83/200\n",
      "537/537 [==============================] - 229s 427ms/step - loss: 3.5954 - accuracy: 0.1186 - val_loss: 176426450944.0000 - val_accuracy: 0.0107\n",
      "Epoch 84/200\n"
     ]
    },
    {
     "data": {
      "application/vnd.jupyter.widget-view+json": {
       "model_id": "2809c9b10669419cb82ebc3a02c4af49",
       "version_major": 2,
       "version_minor": 0
      },
      "text/plain": [
       "0/537           ETA: ?s - "
      ]
     },
     "metadata": {},
     "output_type": "display_data"
    },
    {
     "name": "stdout",
     "output_type": "stream",
     "text": [
      "Epoch 84/200\n",
      "537/537 [==============================] - 230s 428ms/step - loss: 3.5954 - accuracy: 0.1186 - val_loss: 187174043648.0000 - val_accuracy: 0.0107\n",
      "Epoch 85/200\n"
     ]
    },
    {
     "data": {
      "application/vnd.jupyter.widget-view+json": {
       "model_id": "b813c23aab3e433186f2f9c312a41dd9",
       "version_major": 2,
       "version_minor": 0
      },
      "text/plain": [
       "0/537           ETA: ?s - "
      ]
     },
     "metadata": {},
     "output_type": "display_data"
    },
    {
     "name": "stdout",
     "output_type": "stream",
     "text": [
      "Epoch 85/200\n",
      "537/537 [==============================] - 230s 428ms/step - loss: 3.5948 - accuracy: 0.1186 - val_loss: 181711749120.0000 - val_accuracy: 0.0089\n",
      "Epoch 86/200\n"
     ]
    },
    {
     "data": {
      "application/vnd.jupyter.widget-view+json": {
       "model_id": "5fc91f0f47f540cfaa4794bcfc480d6d",
       "version_major": 2,
       "version_minor": 0
      },
      "text/plain": [
       "0/537           ETA: ?s - "
      ]
     },
     "metadata": {},
     "output_type": "display_data"
    },
    {
     "name": "stdout",
     "output_type": "stream",
     "text": [
      "Epoch 86/200\n",
      "537/537 [==============================] - 232s 433ms/step - loss: 3.5956 - accuracy: 0.1186 - val_loss: 211157204992.0000 - val_accuracy: 0.0107\n",
      "Epoch 87/200\n"
     ]
    },
    {
     "data": {
      "application/vnd.jupyter.widget-view+json": {
       "model_id": "f5ca28c0bd674d10862cb85a3639121a",
       "version_major": 2,
       "version_minor": 0
      },
      "text/plain": [
       "0/537           ETA: ?s - "
      ]
     },
     "metadata": {},
     "output_type": "display_data"
    },
    {
     "name": "stdout",
     "output_type": "stream",
     "text": [
      "Epoch 87/200\n",
      "537/537 [==============================] - 230s 429ms/step - loss: 3.5954 - accuracy: 0.1186 - val_loss: 239224832000.0000 - val_accuracy: 0.0107\n",
      "Epoch 88/200\n"
     ]
    },
    {
     "data": {
      "application/vnd.jupyter.widget-view+json": {
       "model_id": "8c15771264b346009238192bf828c7c5",
       "version_major": 2,
       "version_minor": 0
      },
      "text/plain": [
       "0/537           ETA: ?s - "
      ]
     },
     "metadata": {},
     "output_type": "display_data"
    },
    {
     "name": "stdout",
     "output_type": "stream",
     "text": [
      "Epoch 88/200\n",
      "537/537 [==============================] - 229s 426ms/step - loss: 3.5944 - accuracy: 0.1186 - val_loss: 217538789376.0000 - val_accuracy: 0.0107\n",
      "Epoch 89/200\n"
     ]
    },
    {
     "data": {
      "application/vnd.jupyter.widget-view+json": {
       "model_id": "2b571e1ae1c446b6a1b9668e3df690b3",
       "version_major": 2,
       "version_minor": 0
      },
      "text/plain": [
       "0/537           ETA: ?s - "
      ]
     },
     "metadata": {},
     "output_type": "display_data"
    },
    {
     "name": "stdout",
     "output_type": "stream",
     "text": [
      "Epoch 89/200\n",
      "537/537 [==============================] - 231s 431ms/step - loss: 3.5955 - accuracy: 0.1186 - val_loss: 189964533760.0000 - val_accuracy: 0.0107\n",
      "Epoch 90/200\n"
     ]
    },
    {
     "data": {
      "application/vnd.jupyter.widget-view+json": {
       "model_id": "8720f973cf8540ee9c07b8b86418bb67",
       "version_major": 2,
       "version_minor": 0
      },
      "text/plain": [
       "0/537           ETA: ?s - "
      ]
     },
     "metadata": {},
     "output_type": "display_data"
    },
    {
     "name": "stdout",
     "output_type": "stream",
     "text": [
      "Epoch 90/200\n",
      "537/537 [==============================] - 229s 427ms/step - loss: 3.5945 - accuracy: 0.1186 - val_loss: 198002868224.0000 - val_accuracy: 0.0107\n",
      "Epoch 91/200\n"
     ]
    },
    {
     "data": {
      "application/vnd.jupyter.widget-view+json": {
       "model_id": "676078f56378441796e276e6be21b093",
       "version_major": 2,
       "version_minor": 0
      },
      "text/plain": [
       "0/537           ETA: ?s - "
      ]
     },
     "metadata": {},
     "output_type": "display_data"
    },
    {
     "name": "stdout",
     "output_type": "stream",
     "text": [
      "Epoch 91/200\n",
      "537/537 [==============================] - 229s 426ms/step - loss: 3.5957 - accuracy: 0.1186 - val_loss: 191769362432.0000 - val_accuracy: 0.0107\n",
      "Epoch 92/200\n"
     ]
    },
    {
     "data": {
      "application/vnd.jupyter.widget-view+json": {
       "model_id": "31a94417b49141759c3cbf2b85a686e5",
       "version_major": 2,
       "version_minor": 0
      },
      "text/plain": [
       "0/537           ETA: ?s - "
      ]
     },
     "metadata": {},
     "output_type": "display_data"
    },
    {
     "name": "stdout",
     "output_type": "stream",
     "text": [
      "Epoch 92/200\n",
      "537/537 [==============================] - 230s 428ms/step - loss: 3.5954 - accuracy: 0.1186 - val_loss: 174754496512.0000 - val_accuracy: 0.0107\n",
      "Epoch 93/200\n"
     ]
    },
    {
     "data": {
      "application/vnd.jupyter.widget-view+json": {
       "model_id": "8c56adbbe943450a92efa9050e18da59",
       "version_major": 2,
       "version_minor": 0
      },
      "text/plain": [
       "0/537           ETA: ?s - "
      ]
     },
     "metadata": {},
     "output_type": "display_data"
    },
    {
     "name": "stdout",
     "output_type": "stream",
     "text": [
      "Epoch 93/200\n",
      "537/537 [==============================] - 230s 428ms/step - loss: 3.5960 - accuracy: 0.1186 - val_loss: 176137814016.0000 - val_accuracy: 0.0105\n",
      "Epoch 94/200\n"
     ]
    },
    {
     "data": {
      "application/vnd.jupyter.widget-view+json": {
       "model_id": "07cb14c495994883b20e84f5e43fd37d",
       "version_major": 2,
       "version_minor": 0
      },
      "text/plain": [
       "0/537           ETA: ?s - "
      ]
     },
     "metadata": {},
     "output_type": "display_data"
    },
    {
     "name": "stdout",
     "output_type": "stream",
     "text": [
      "Epoch 94/200\n",
      "537/537 [==============================] - 232s 431ms/step - loss: 3.5959 - accuracy: 0.1186 - val_loss: 186483736576.0000 - val_accuracy: 0.0028\n",
      "Epoch 95/200\n"
     ]
    },
    {
     "data": {
      "application/vnd.jupyter.widget-view+json": {
       "model_id": "01bb8243f4f84413b3d96c8c7fea201d",
       "version_major": 2,
       "version_minor": 0
      },
      "text/plain": [
       "0/537           ETA: ?s - "
      ]
     },
     "metadata": {},
     "output_type": "display_data"
    },
    {
     "name": "stdout",
     "output_type": "stream",
     "text": [
      "Epoch 95/200\n",
      "537/537 [==============================] - 230s 427ms/step - loss: 3.5952 - accuracy: 0.1186 - val_loss: 187852111872.0000 - val_accuracy: 0.0028\n",
      "Epoch 96/200\n"
     ]
    },
    {
     "data": {
      "application/vnd.jupyter.widget-view+json": {
       "model_id": "b1b9cc26c3f54a2d9f62a68f91d403f9",
       "version_major": 2,
       "version_minor": 0
      },
      "text/plain": [
       "0/537           ETA: ?s - "
      ]
     },
     "metadata": {},
     "output_type": "display_data"
    },
    {
     "name": "stdout",
     "output_type": "stream",
     "text": [
      "Epoch 96/200\n",
      "537/537 [==============================] - 229s 427ms/step - loss: 3.5949 - accuracy: 0.1186 - val_loss: 203118936064.0000 - val_accuracy: 0.0082\n",
      "Epoch 97/200\n"
     ]
    },
    {
     "data": {
      "application/vnd.jupyter.widget-view+json": {
       "model_id": "00482e8b94d3422eba08387a466ec946",
       "version_major": 2,
       "version_minor": 0
      },
      "text/plain": [
       "0/537           ETA: ?s - "
      ]
     },
     "metadata": {},
     "output_type": "display_data"
    },
    {
     "name": "stdout",
     "output_type": "stream",
     "text": [
      "Epoch 97/200\n",
      "537/537 [==============================] - 230s 428ms/step - loss: 3.5958 - accuracy: 0.1187 - val_loss: 191847251968.0000 - val_accuracy: 0.0082\n",
      "Epoch 98/200\n"
     ]
    },
    {
     "data": {
      "application/vnd.jupyter.widget-view+json": {
       "model_id": "960ae7e6c8414a139e8d1e5eee71bd94",
       "version_major": 2,
       "version_minor": 0
      },
      "text/plain": [
       "0/537           ETA: ?s - "
      ]
     },
     "metadata": {},
     "output_type": "display_data"
    },
    {
     "name": "stdout",
     "output_type": "stream",
     "text": [
      "Epoch 98/200\n",
      "537/537 [==============================] - 230s 428ms/step - loss: 3.5949 - accuracy: 0.1186 - val_loss: 183646781440.0000 - val_accuracy: 0.0051\n",
      "Epoch 99/200\n"
     ]
    },
    {
     "data": {
      "application/vnd.jupyter.widget-view+json": {
       "model_id": "8bb953c091064fb79dbfe6a59639903e",
       "version_major": 2,
       "version_minor": 0
      },
      "text/plain": [
       "0/537           ETA: ?s - "
      ]
     },
     "metadata": {},
     "output_type": "display_data"
    },
    {
     "name": "stdout",
     "output_type": "stream",
     "text": [
      "Epoch 99/200\n",
      "537/537 [==============================] - 229s 426ms/step - loss: 3.5953 - accuracy: 0.1186 - val_loss: 186783219712.0000 - val_accuracy: 0.0058\n",
      "Epoch 100/200\n"
     ]
    },
    {
     "data": {
      "application/vnd.jupyter.widget-view+json": {
       "model_id": "8125412dec854955b98c6bc1fc698513",
       "version_major": 2,
       "version_minor": 0
      },
      "text/plain": [
       "0/537           ETA: ?s - "
      ]
     },
     "metadata": {},
     "output_type": "display_data"
    },
    {
     "name": "stdout",
     "output_type": "stream",
     "text": [
      "Epoch 100/200\n",
      "537/537 [==============================] - 230s 428ms/step - loss: 3.5944 - accuracy: 0.1186 - val_loss: 188615589888.0000 - val_accuracy: 0.0028\n",
      "Epoch 101/200\n"
     ]
    },
    {
     "data": {
      "application/vnd.jupyter.widget-view+json": {
       "model_id": "ce91eb329e5845ec990c04ff6efc8cdd",
       "version_major": 2,
       "version_minor": 0
      },
      "text/plain": [
       "0/537           ETA: ?s - "
      ]
     },
     "metadata": {},
     "output_type": "display_data"
    },
    {
     "name": "stdout",
     "output_type": "stream",
     "text": [
      "Epoch 101/200\n",
      "537/537 [==============================] - 230s 429ms/step - loss: 3.5948 - accuracy: 0.1186 - val_loss: 183245144064.0000 - val_accuracy: 0.0028\n",
      "Epoch 102/200\n"
     ]
    },
    {
     "data": {
      "application/vnd.jupyter.widget-view+json": {
       "model_id": "ed2d112067234f1a8361ec9e5a3dc808",
       "version_major": 2,
       "version_minor": 0
      },
      "text/plain": [
       "0/537           ETA: ?s - "
      ]
     },
     "metadata": {},
     "output_type": "display_data"
    },
    {
     "name": "stdout",
     "output_type": "stream",
     "text": [
      "Epoch 102/200\n",
      "537/537 [==============================] - 231s 430ms/step - loss: 3.5953 - accuracy: 0.1186 - val_loss: 189313925120.0000 - val_accuracy: 0.0068\n",
      "Epoch 103/200\n"
     ]
    },
    {
     "data": {
      "application/vnd.jupyter.widget-view+json": {
       "model_id": "cf1e012a4ff144f891c2e0175e7af8c7",
       "version_major": 2,
       "version_minor": 0
      },
      "text/plain": [
       "0/537           ETA: ?s - "
      ]
     },
     "metadata": {},
     "output_type": "display_data"
    },
    {
     "name": "stdout",
     "output_type": "stream",
     "text": [
      "Epoch 103/200\n",
      "537/537 [==============================] - 230s 428ms/step - loss: 3.5945 - accuracy: 0.1186 - val_loss: 184231542784.0000 - val_accuracy: 0.0051\n",
      "Epoch 104/200\n"
     ]
    },
    {
     "data": {
      "application/vnd.jupyter.widget-view+json": {
       "model_id": "0ad545a1b49e40af830fbf424e34c0f6",
       "version_major": 2,
       "version_minor": 0
      },
      "text/plain": [
       "0/537           ETA: ?s - "
      ]
     },
     "metadata": {},
     "output_type": "display_data"
    },
    {
     "name": "stdout",
     "output_type": "stream",
     "text": [
      "Epoch 104/200\n",
      "537/537 [==============================] - 229s 427ms/step - loss: 3.5943 - accuracy: 0.1186 - val_loss: 206601322496.0000 - val_accuracy: 0.0058\n",
      "Epoch 105/200\n"
     ]
    },
    {
     "data": {
      "application/vnd.jupyter.widget-view+json": {
       "model_id": "6cfe37cb0c6742eca27d62f902834038",
       "version_major": 2,
       "version_minor": 0
      },
      "text/plain": [
       "0/537           ETA: ?s - "
      ]
     },
     "metadata": {},
     "output_type": "display_data"
    },
    {
     "name": "stdout",
     "output_type": "stream",
     "text": [
      "Epoch 105/200\n",
      "537/537 [==============================] - 230s 428ms/step - loss: 3.5940 - accuracy: 0.1186 - val_loss: 195438444544.0000 - val_accuracy: 0.0056\n",
      "Epoch 106/200\n"
     ]
    },
    {
     "data": {
      "application/vnd.jupyter.widget-view+json": {
       "model_id": "f78e71491a92408dbe5938f2d406b485",
       "version_major": 2,
       "version_minor": 0
      },
      "text/plain": [
       "0/537           ETA: ?s - "
      ]
     },
     "metadata": {},
     "output_type": "display_data"
    },
    {
     "name": "stdout",
     "output_type": "stream",
     "text": [
      "Epoch 106/200\n",
      "537/537 [==============================] - 230s 428ms/step - loss: 3.5956 - accuracy: 0.1186 - val_loss: 205459554304.0000 - val_accuracy: 0.0056\n",
      "Epoch 107/200\n"
     ]
    },
    {
     "data": {
      "application/vnd.jupyter.widget-view+json": {
       "model_id": "06ecbf3a29d349318f2c668b0e854164",
       "version_major": 2,
       "version_minor": 0
      },
      "text/plain": [
       "0/537           ETA: ?s - "
      ]
     },
     "metadata": {},
     "output_type": "display_data"
    },
    {
     "name": "stdout",
     "output_type": "stream",
     "text": [
      "Epoch 107/200\n",
      "537/537 [==============================] - 230s 427ms/step - loss: 3.5946 - accuracy: 0.1185 - val_loss: 219630747648.0000 - val_accuracy: 0.0056\n",
      "Epoch 108/200\n"
     ]
    },
    {
     "data": {
      "application/vnd.jupyter.widget-view+json": {
       "model_id": "3e9cfc85b9ee4cd4b9e763921c43b19c",
       "version_major": 2,
       "version_minor": 0
      },
      "text/plain": [
       "0/537           ETA: ?s - "
      ]
     },
     "metadata": {},
     "output_type": "display_data"
    },
    {
     "name": "stdout",
     "output_type": "stream",
     "text": [
      "Epoch 108/200\n",
      "537/537 [==============================] - 229s 426ms/step - loss: 3.5956 - accuracy: 0.1186 - val_loss: 244973223936.0000 - val_accuracy: 0.0056\n",
      "Epoch 109/200\n"
     ]
    },
    {
     "data": {
      "application/vnd.jupyter.widget-view+json": {
       "model_id": "1da4fabba2fb466e8ef7c4810c0f19b1",
       "version_major": 2,
       "version_minor": 0
      },
      "text/plain": [
       "0/537           ETA: ?s - "
      ]
     },
     "metadata": {},
     "output_type": "display_data"
    },
    {
     "name": "stdout",
     "output_type": "stream",
     "text": [
      "Epoch 109/200\n",
      "537/537 [==============================] - 232s 431ms/step - loss: 3.5946 - accuracy: 0.1186 - val_loss: 237320290304.0000 - val_accuracy: 0.0056\n",
      "Epoch 110/200\n"
     ]
    },
    {
     "data": {
      "application/vnd.jupyter.widget-view+json": {
       "model_id": "6b056fc9f7de4d408a344d5c3ca7a55b",
       "version_major": 2,
       "version_minor": 0
      },
      "text/plain": [
       "0/537           ETA: ?s - "
      ]
     },
     "metadata": {},
     "output_type": "display_data"
    },
    {
     "name": "stdout",
     "output_type": "stream",
     "text": [
      "Epoch 110/200\n",
      "537/537 [==============================] - 230s 428ms/step - loss: 3.5954 - accuracy: 0.1186 - val_loss: 247115415552.0000 - val_accuracy: 0.0056\n",
      "Epoch 111/200\n"
     ]
    },
    {
     "data": {
      "application/vnd.jupyter.widget-view+json": {
       "model_id": "3e2b8e69e7d14b2a8a382f0edaa82f0a",
       "version_major": 2,
       "version_minor": 0
      },
      "text/plain": [
       "0/537           ETA: ?s - "
      ]
     },
     "metadata": {},
     "output_type": "display_data"
    },
    {
     "name": "stdout",
     "output_type": "stream",
     "text": [
      "Epoch 111/200\n",
      "537/537 [==============================] - 230s 427ms/step - loss: 3.5953 - accuracy: 0.1186 - val_loss: 251571224576.0000 - val_accuracy: 0.0056\n",
      "Epoch 112/200\n"
     ]
    },
    {
     "data": {
      "application/vnd.jupyter.widget-view+json": {
       "model_id": "a725cd69c388457ea7655070b77ecb47",
       "version_major": 2,
       "version_minor": 0
      },
      "text/plain": [
       "0/537           ETA: ?s - "
      ]
     },
     "metadata": {},
     "output_type": "display_data"
    },
    {
     "name": "stdout",
     "output_type": "stream",
     "text": [
      "Epoch 112/200\n",
      "537/537 [==============================] - 230s 428ms/step - loss: 3.5956 - accuracy: 0.1186 - val_loss: 242105073664.0000 - val_accuracy: 0.0056\n",
      "Epoch 113/200\n"
     ]
    },
    {
     "data": {
      "application/vnd.jupyter.widget-view+json": {
       "model_id": "51387eb9231b40f99d34187795af275c",
       "version_major": 2,
       "version_minor": 0
      },
      "text/plain": [
       "0/537           ETA: ?s - "
      ]
     },
     "metadata": {},
     "output_type": "display_data"
    },
    {
     "name": "stdout",
     "output_type": "stream",
     "text": [
      "Epoch 113/200\n",
      "537/537 [==============================] - 229s 427ms/step - loss: 3.5940 - accuracy: 0.1186 - val_loss: 263579287552.0000 - val_accuracy: 0.0056\n",
      "Epoch 114/200\n"
     ]
    },
    {
     "data": {
      "application/vnd.jupyter.widget-view+json": {
       "model_id": "930f17c2f5da4d16b777e0c28df2d3d4",
       "version_major": 2,
       "version_minor": 0
      },
      "text/plain": [
       "0/537           ETA: ?s - "
      ]
     },
     "metadata": {},
     "output_type": "display_data"
    },
    {
     "name": "stdout",
     "output_type": "stream",
     "text": [
      "Epoch 114/200\n",
      "537/537 [==============================] - 230s 428ms/step - loss: 3.5950 - accuracy: 0.1186 - val_loss: 270851751936.0000 - val_accuracy: 0.0056\n",
      "Epoch 115/200\n"
     ]
    },
    {
     "data": {
      "application/vnd.jupyter.widget-view+json": {
       "model_id": "0a7f42a6ba68491686b7473fa627623a",
       "version_major": 2,
       "version_minor": 0
      },
      "text/plain": [
       "0/537           ETA: ?s - "
      ]
     },
     "metadata": {},
     "output_type": "display_data"
    },
    {
     "name": "stdout",
     "output_type": "stream",
     "text": [
      "Epoch 115/200\n",
      "537/537 [==============================] - 230s 428ms/step - loss: 3.5947 - accuracy: 0.1186 - val_loss: 270389133312.0000 - val_accuracy: 0.0056\n",
      "Epoch 116/200\n"
     ]
    },
    {
     "data": {
      "application/vnd.jupyter.widget-view+json": {
       "model_id": "471b7e74f3224e93837a502aee0fd98a",
       "version_major": 2,
       "version_minor": 0
      },
      "text/plain": [
       "0/537           ETA: ?s - "
      ]
     },
     "metadata": {},
     "output_type": "display_data"
    },
    {
     "name": "stdout",
     "output_type": "stream",
     "text": [
      "Epoch 116/200\n",
      "537/537 [==============================] - 230s 427ms/step - loss: 3.5948 - accuracy: 0.1186 - val_loss: 266536550400.0000 - val_accuracy: 0.0056\n",
      "Epoch 117/200\n"
     ]
    },
    {
     "data": {
      "application/vnd.jupyter.widget-view+json": {
       "model_id": "4d5fe9aae6bd47b4bd19e9d14223c8ca",
       "version_major": 2,
       "version_minor": 0
      },
      "text/plain": [
       "0/537           ETA: ?s - "
      ]
     },
     "metadata": {},
     "output_type": "display_data"
    },
    {
     "name": "stdout",
     "output_type": "stream",
     "text": [
      "Epoch 117/200\n",
      "537/537 [==============================] - 232s 432ms/step - loss: 3.5935 - accuracy: 0.1186 - val_loss: 234382868480.0000 - val_accuracy: 0.0056\n",
      "Epoch 118/200\n"
     ]
    },
    {
     "data": {
      "application/vnd.jupyter.widget-view+json": {
       "model_id": "8f7fd1f3b3bf4f6cb3e789c8a3b2212c",
       "version_major": 2,
       "version_minor": 0
      },
      "text/plain": [
       "0/537           ETA: ?s - "
      ]
     },
     "metadata": {},
     "output_type": "display_data"
    },
    {
     "name": "stdout",
     "output_type": "stream",
     "text": [
      "Epoch 118/200\n",
      "537/537 [==============================] - 230s 428ms/step - loss: 3.5947 - accuracy: 0.1186 - val_loss: 247070801920.0000 - val_accuracy: 0.0056\n",
      "Epoch 119/200\n"
     ]
    },
    {
     "data": {
      "application/vnd.jupyter.widget-view+json": {
       "model_id": "63714befc9e84ef1b49663dd0737341e",
       "version_major": 2,
       "version_minor": 0
      },
      "text/plain": [
       "0/537           ETA: ?s - "
      ]
     },
     "metadata": {},
     "output_type": "display_data"
    },
    {
     "name": "stdout",
     "output_type": "stream",
     "text": [
      "Epoch 119/200\n",
      "537/537 [==============================] - 231s 430ms/step - loss: 3.5942 - accuracy: 0.1186 - val_loss: 272126148608.0000 - val_accuracy: 0.0056\n",
      "Epoch 120/200\n"
     ]
    },
    {
     "data": {
      "application/vnd.jupyter.widget-view+json": {
       "model_id": "5460c8b20123455cab3fb1d9977dced7",
       "version_major": 2,
       "version_minor": 0
      },
      "text/plain": [
       "0/537           ETA: ?s - "
      ]
     },
     "metadata": {},
     "output_type": "display_data"
    },
    {
     "name": "stdout",
     "output_type": "stream",
     "text": [
      "Epoch 120/200\n",
      "537/537 [==============================] - 230s 429ms/step - loss: 3.5951 - accuracy: 0.1186 - val_loss: 261885919232.0000 - val_accuracy: 0.0056\n",
      "Epoch 121/200\n"
     ]
    },
    {
     "data": {
      "application/vnd.jupyter.widget-view+json": {
       "model_id": "ca101d6c212747f88f77dd1b2d36fe59",
       "version_major": 2,
       "version_minor": 0
      },
      "text/plain": [
       "0/537           ETA: ?s - "
      ]
     },
     "metadata": {},
     "output_type": "display_data"
    },
    {
     "name": "stdout",
     "output_type": "stream",
     "text": [
      "Epoch 121/200\n",
      "537/537 [==============================] - 229s 426ms/step - loss: 3.5943 - accuracy: 0.1186 - val_loss: 259154509824.0000 - val_accuracy: 0.0056\n",
      "Epoch 122/200\n"
     ]
    },
    {
     "data": {
      "application/vnd.jupyter.widget-view+json": {
       "model_id": "71b6a1837e95489fbfd628efb92a4c46",
       "version_major": 2,
       "version_minor": 0
      },
      "text/plain": [
       "0/537           ETA: ?s - "
      ]
     },
     "metadata": {},
     "output_type": "display_data"
    },
    {
     "name": "stdout",
     "output_type": "stream",
     "text": [
      "Epoch 122/200\n",
      "537/537 [==============================] - 230s 429ms/step - loss: 3.5948 - accuracy: 0.1186 - val_loss: 267900485632.0000 - val_accuracy: 0.0056\n",
      "Epoch 123/200\n"
     ]
    },
    {
     "data": {
      "application/vnd.jupyter.widget-view+json": {
       "model_id": "48e0089612904d35956c30b516c6858b",
       "version_major": 2,
       "version_minor": 0
      },
      "text/plain": [
       "0/537           ETA: ?s - "
      ]
     },
     "metadata": {},
     "output_type": "display_data"
    },
    {
     "name": "stdout",
     "output_type": "stream",
     "text": [
      "Epoch 123/200\n",
      "537/537 [==============================] - 230s 428ms/step - loss: 3.5952 - accuracy: 0.1186 - val_loss: 269568573440.0000 - val_accuracy: 0.0056\n",
      "Epoch 124/200\n"
     ]
    },
    {
     "data": {
      "application/vnd.jupyter.widget-view+json": {
       "model_id": "26c8623518bb4e3a878baf8cfaa8f4fd",
       "version_major": 2,
       "version_minor": 0
      },
      "text/plain": [
       "0/537           ETA: ?s - "
      ]
     },
     "metadata": {},
     "output_type": "display_data"
    },
    {
     "name": "stdout",
     "output_type": "stream",
     "text": [
      "Epoch 124/200\n",
      "537/537 [==============================] - 230s 428ms/step - loss: 3.5950 - accuracy: 0.1186 - val_loss: 270814101504.0000 - val_accuracy: 0.0056\n",
      "Epoch 125/200\n"
     ]
    },
    {
     "data": {
      "application/vnd.jupyter.widget-view+json": {
       "model_id": "55afe70a5b0f43cfa598ecd2b8d21a44",
       "version_major": 2,
       "version_minor": 0
      },
      "text/plain": [
       "0/537           ETA: ?s - "
      ]
     },
     "metadata": {},
     "output_type": "display_data"
    },
    {
     "name": "stdout",
     "output_type": "stream",
     "text": [
      "Epoch 125/200\n",
      "537/537 [==============================] - 232s 431ms/step - loss: 3.5941 - accuracy: 0.1186 - val_loss: 287983960064.0000 - val_accuracy: 0.0056\n",
      "Epoch 126/200\n"
     ]
    },
    {
     "data": {
      "application/vnd.jupyter.widget-view+json": {
       "model_id": "c00385acfea64bc4abab5660d129dd92",
       "version_major": 2,
       "version_minor": 0
      },
      "text/plain": [
       "0/537           ETA: ?s - "
      ]
     },
     "metadata": {},
     "output_type": "display_data"
    },
    {
     "name": "stdout",
     "output_type": "stream",
     "text": [
      "Epoch 126/200\n",
      "537/537 [==============================] - 230s 428ms/step - loss: 3.5951 - accuracy: 0.1186 - val_loss: 280006819840.0000 - val_accuracy: 0.0056\n",
      "Epoch 127/200\n"
     ]
    },
    {
     "data": {
      "application/vnd.jupyter.widget-view+json": {
       "model_id": "c12fb6971ac74c8fa764aee14cd7c1dc",
       "version_major": 2,
       "version_minor": 0
      },
      "text/plain": [
       "0/537           ETA: ?s - "
      ]
     },
     "metadata": {},
     "output_type": "display_data"
    },
    {
     "name": "stdout",
     "output_type": "stream",
     "text": [
      "Epoch 127/200\n",
      "537/537 [==============================] - 230s 429ms/step - loss: 3.5943 - accuracy: 0.1186 - val_loss: 285861609472.0000 - val_accuracy: 0.0056\n",
      "Epoch 128/200\n"
     ]
    },
    {
     "data": {
      "application/vnd.jupyter.widget-view+json": {
       "model_id": "f398e50dab4345d1a632bcfac57c8bbd",
       "version_major": 2,
       "version_minor": 0
      },
      "text/plain": [
       "0/537           ETA: ?s - "
      ]
     },
     "metadata": {},
     "output_type": "display_data"
    },
    {
     "name": "stdout",
     "output_type": "stream",
     "text": [
      "Epoch 128/200\n",
      "537/537 [==============================] - 230s 427ms/step - loss: 3.5937 - accuracy: 0.1186 - val_loss: 272358277120.0000 - val_accuracy: 0.0056\n",
      "Epoch 129/200\n"
     ]
    },
    {
     "data": {
      "application/vnd.jupyter.widget-view+json": {
       "model_id": "3a1245ca218a4d3d954cf3b4d3d13bf2",
       "version_major": 2,
       "version_minor": 0
      },
      "text/plain": [
       "0/537           ETA: ?s - "
      ]
     },
     "metadata": {},
     "output_type": "display_data"
    },
    {
     "name": "stdout",
     "output_type": "stream",
     "text": [
      "Epoch 129/200\n",
      "537/537 [==============================] - 230s 428ms/step - loss: 3.5943 - accuracy: 0.1186 - val_loss: 260882448384.0000 - val_accuracy: 0.0056\n",
      "Epoch 130/200\n"
     ]
    },
    {
     "data": {
      "application/vnd.jupyter.widget-view+json": {
       "model_id": "8c5953b0e4ba4ec28c2d259657e8ed1b",
       "version_major": 2,
       "version_minor": 0
      },
      "text/plain": [
       "0/537           ETA: ?s - "
      ]
     },
     "metadata": {},
     "output_type": "display_data"
    },
    {
     "name": "stdout",
     "output_type": "stream",
     "text": [
      "Epoch 130/200\n",
      "537/537 [==============================] - 229s 427ms/step - loss: 3.5937 - accuracy: 0.1186 - val_loss: 254913314816.0000 - val_accuracy: 0.0056\n",
      "Epoch 131/200\n"
     ]
    },
    {
     "data": {
      "application/vnd.jupyter.widget-view+json": {
       "model_id": "cc214186f0a24621bbb246f721ed3331",
       "version_major": 2,
       "version_minor": 0
      },
      "text/plain": [
       "0/537           ETA: ?s - "
      ]
     },
     "metadata": {},
     "output_type": "display_data"
    },
    {
     "name": "stdout",
     "output_type": "stream",
     "text": [
      "Epoch 131/200\n",
      "537/537 [==============================] - 230s 427ms/step - loss: 3.5948 - accuracy: 0.1186 - val_loss: 248665128960.0000 - val_accuracy: 0.0056\n",
      "Epoch 132/200\n"
     ]
    },
    {
     "data": {
      "application/vnd.jupyter.widget-view+json": {
       "model_id": "1987f7e47c4e432a9f6b10cf41f3c95a",
       "version_major": 2,
       "version_minor": 0
      },
      "text/plain": [
       "0/537           ETA: ?s - "
      ]
     },
     "metadata": {},
     "output_type": "display_data"
    },
    {
     "name": "stdout",
     "output_type": "stream",
     "text": [
      "Epoch 132/200\n",
      "537/537 [==============================] - 230s 428ms/step - loss: 3.5942 - accuracy: 0.1186 - val_loss: 226064728064.0000 - val_accuracy: 0.0056\n",
      "Epoch 133/200\n"
     ]
    },
    {
     "data": {
      "application/vnd.jupyter.widget-view+json": {
       "model_id": "7e48003f12804d93996242a851927f23",
       "version_major": 2,
       "version_minor": 0
      },
      "text/plain": [
       "0/537           ETA: ?s - "
      ]
     },
     "metadata": {},
     "output_type": "display_data"
    },
    {
     "name": "stdout",
     "output_type": "stream",
     "text": [
      "Epoch 133/200\n",
      "537/537 [==============================] - 232s 432ms/step - loss: 3.5944 - accuracy: 0.1186 - val_loss: 212034715648.0000 - val_accuracy: 0.0056\n",
      "Epoch 134/200\n"
     ]
    },
    {
     "data": {
      "application/vnd.jupyter.widget-view+json": {
       "model_id": "0ac4f149a3ce489ca41816de54f4a48c",
       "version_major": 2,
       "version_minor": 0
      },
      "text/plain": [
       "0/537           ETA: ?s - "
      ]
     },
     "metadata": {},
     "output_type": "display_data"
    },
    {
     "name": "stdout",
     "output_type": "stream",
     "text": [
      "Epoch 134/200\n",
      "537/537 [==============================] - 231s 429ms/step - loss: 3.5953 - accuracy: 0.1186 - val_loss: 213883125760.0000 - val_accuracy: 0.0056\n",
      "Epoch 135/200\n"
     ]
    },
    {
     "data": {
      "application/vnd.jupyter.widget-view+json": {
       "model_id": "60275e6018094d8abcd3976dc3c4efd5",
       "version_major": 2,
       "version_minor": 0
      },
      "text/plain": [
       "0/537           ETA: ?s - "
      ]
     },
     "metadata": {},
     "output_type": "display_data"
    },
    {
     "name": "stdout",
     "output_type": "stream",
     "text": [
      "Epoch 135/200\n",
      "537/537 [==============================] - 231s 429ms/step - loss: 3.5942 - accuracy: 0.1186 - val_loss: 228241489920.0000 - val_accuracy: 0.0056\n",
      "Epoch 136/200\n"
     ]
    },
    {
     "data": {
      "application/vnd.jupyter.widget-view+json": {
       "model_id": "77ce80a2de154e13894b71ef03d31345",
       "version_major": 2,
       "version_minor": 0
      },
      "text/plain": [
       "0/537           ETA: ?s - "
      ]
     },
     "metadata": {},
     "output_type": "display_data"
    },
    {
     "name": "stdout",
     "output_type": "stream",
     "text": [
      "Epoch 136/200\n",
      "537/537 [==============================] - 230s 429ms/step - loss: 3.5943 - accuracy: 0.1186 - val_loss: 226368454656.0000 - val_accuracy: 0.0056\n",
      "Epoch 137/200\n"
     ]
    },
    {
     "data": {
      "application/vnd.jupyter.widget-view+json": {
       "model_id": "f1475e0ce36e4937a0727cb97d20ec6e",
       "version_major": 2,
       "version_minor": 0
      },
      "text/plain": [
       "0/537           ETA: ?s - "
      ]
     },
     "metadata": {},
     "output_type": "display_data"
    },
    {
     "name": "stdout",
     "output_type": "stream",
     "text": [
      "Epoch 137/200\n",
      "537/537 [==============================] - 230s 429ms/step - loss: 3.5942 - accuracy: 0.1186 - val_loss: 242177015808.0000 - val_accuracy: 0.0056\n",
      "Epoch 138/200\n"
     ]
    },
    {
     "data": {
      "application/vnd.jupyter.widget-view+json": {
       "model_id": "ce7c3fd639fa4ddab6a03f9eec10e8c1",
       "version_major": 2,
       "version_minor": 0
      },
      "text/plain": [
       "0/537           ETA: ?s - "
      ]
     },
     "metadata": {},
     "output_type": "display_data"
    },
    {
     "name": "stdout",
     "output_type": "stream",
     "text": [
      "Epoch 138/200\n",
      "537/537 [==============================] - 230s 429ms/step - loss: 3.5933 - accuracy: 0.1186 - val_loss: 267606425600.0000 - val_accuracy: 0.0056\n",
      "Epoch 139/200\n"
     ]
    },
    {
     "data": {
      "application/vnd.jupyter.widget-view+json": {
       "model_id": "1cbe4c73d80a415a93eec6d50f92dcac",
       "version_major": 2,
       "version_minor": 0
      },
      "text/plain": [
       "0/537           ETA: ?s - "
      ]
     },
     "metadata": {},
     "output_type": "display_data"
    },
    {
     "name": "stdout",
     "output_type": "stream",
     "text": [
      "Epoch 139/200\n",
      "537/537 [==============================] - 231s 430ms/step - loss: 3.5943 - accuracy: 0.1186 - val_loss: 253722460160.0000 - val_accuracy: 0.0056\n",
      "Epoch 140/200\n"
     ]
    },
    {
     "data": {
      "application/vnd.jupyter.widget-view+json": {
       "model_id": "6a1f3bb44bf744f0980c0d2104f1ba4a",
       "version_major": 2,
       "version_minor": 0
      },
      "text/plain": [
       "0/537           ETA: ?s - "
      ]
     },
     "metadata": {},
     "output_type": "display_data"
    },
    {
     "name": "stdout",
     "output_type": "stream",
     "text": [
      "Epoch 140/200\n",
      "537/537 [==============================] - 230s 428ms/step - loss: 3.5936 - accuracy: 0.1186 - val_loss: 278400892928.0000 - val_accuracy: 0.0056\n",
      "Epoch 141/200\n"
     ]
    },
    {
     "data": {
      "application/vnd.jupyter.widget-view+json": {
       "model_id": "1824a135d1cd41fcbedbeb843a3055bf",
       "version_major": 2,
       "version_minor": 0
      },
      "text/plain": [
       "0/537           ETA: ?s - "
      ]
     },
     "metadata": {},
     "output_type": "display_data"
    },
    {
     "name": "stdout",
     "output_type": "stream",
     "text": [
      "Epoch 141/200\n",
      "537/537 [==============================] - 231s 430ms/step - loss: 3.5940 - accuracy: 0.1186 - val_loss: 275817693184.0000 - val_accuracy: 0.0056\n",
      "Epoch 142/200\n"
     ]
    },
    {
     "data": {
      "application/vnd.jupyter.widget-view+json": {
       "model_id": "6c06e4e2203843a7b9fde1570e341568",
       "version_major": 2,
       "version_minor": 0
      },
      "text/plain": [
       "0/537           ETA: ?s - "
      ]
     },
     "metadata": {},
     "output_type": "display_data"
    },
    {
     "name": "stdout",
     "output_type": "stream",
     "text": [
      "Epoch 142/200\n",
      "537/537 [==============================] - 230s 428ms/step - loss: 3.5952 - accuracy: 0.1186 - val_loss: 264131018752.0000 - val_accuracy: 0.0056\n",
      "Epoch 143/200\n"
     ]
    },
    {
     "data": {
      "application/vnd.jupyter.widget-view+json": {
       "model_id": "9f6b22b82c9f400ca2a9b37a64aa11ab",
       "version_major": 2,
       "version_minor": 0
      },
      "text/plain": [
       "0/537           ETA: ?s - "
      ]
     },
     "metadata": {},
     "output_type": "display_data"
    },
    {
     "name": "stdout",
     "output_type": "stream",
     "text": [
      "Epoch 143/200\n",
      "537/537 [==============================] - 230s 427ms/step - loss: 3.5941 - accuracy: 0.1186 - val_loss: 255322324992.0000 - val_accuracy: 0.0056\n",
      "Epoch 144/200\n"
     ]
    },
    {
     "data": {
      "application/vnd.jupyter.widget-view+json": {
       "model_id": "af602c02c92c44e697c3bdba4196779e",
       "version_major": 2,
       "version_minor": 0
      },
      "text/plain": [
       "0/537           ETA: ?s - "
      ]
     },
     "metadata": {},
     "output_type": "display_data"
    },
    {
     "name": "stdout",
     "output_type": "stream",
     "text": [
      "Epoch 144/200\n",
      "537/537 [==============================] - 230s 427ms/step - loss: 3.5942 - accuracy: 0.1186 - val_loss: 266627219456.0000 - val_accuracy: 0.0056\n",
      "Epoch 145/200\n"
     ]
    },
    {
     "data": {
      "application/vnd.jupyter.widget-view+json": {
       "model_id": "23095c3d44b447ed9b168c25cd388526",
       "version_major": 2,
       "version_minor": 0
      },
      "text/plain": [
       "0/537           ETA: ?s - "
      ]
     },
     "metadata": {},
     "output_type": "display_data"
    },
    {
     "name": "stdout",
     "output_type": "stream",
     "text": [
      "Epoch 145/200\n",
      "537/537 [==============================] - 230s 429ms/step - loss: 3.5938 - accuracy: 0.1186 - val_loss: 278453714944.0000 - val_accuracy: 0.0056\n",
      "Epoch 146/200\n"
     ]
    },
    {
     "data": {
      "application/vnd.jupyter.widget-view+json": {
       "model_id": "72c7ea3c922a4fa18593541500983203",
       "version_major": 2,
       "version_minor": 0
      },
      "text/plain": [
       "0/537           ETA: ?s - "
      ]
     },
     "metadata": {},
     "output_type": "display_data"
    },
    {
     "name": "stdout",
     "output_type": "stream",
     "text": [
      "Epoch 146/200\n",
      "537/537 [==============================] - 230s 429ms/step - loss: 3.5947 - accuracy: 0.1186 - val_loss: 276927610880.0000 - val_accuracy: 0.0056\n",
      "Epoch 147/200\n"
     ]
    },
    {
     "data": {
      "application/vnd.jupyter.widget-view+json": {
       "model_id": "0accb2d0bc1c47358e35830309b1b73a",
       "version_major": 2,
       "version_minor": 0
      },
      "text/plain": [
       "0/537           ETA: ?s - "
      ]
     },
     "metadata": {},
     "output_type": "display_data"
    },
    {
     "name": "stdout",
     "output_type": "stream",
     "text": [
      "Epoch 147/200\n",
      "537/537 [==============================] - 231s 430ms/step - loss: 3.5933 - accuracy: 0.1186 - val_loss: 275740557312.0000 - val_accuracy: 0.0056\n",
      "Epoch 148/200\n"
     ]
    },
    {
     "data": {
      "application/vnd.jupyter.widget-view+json": {
       "model_id": "8330ee939294442484418ed09a0d32f5",
       "version_major": 2,
       "version_minor": 0
      },
      "text/plain": [
       "0/537           ETA: ?s - "
      ]
     },
     "metadata": {},
     "output_type": "display_data"
    },
    {
     "name": "stdout",
     "output_type": "stream",
     "text": [
      "Epoch 148/200\n",
      "537/537 [==============================] - 233s 434ms/step - loss: 3.5940 - accuracy: 0.1186 - val_loss: 283806072832.0000 - val_accuracy: 0.0056\n",
      "Epoch 149/200\n"
     ]
    },
    {
     "data": {
      "application/vnd.jupyter.widget-view+json": {
       "model_id": "4bad50666e9548bca124dc5623a77d76",
       "version_major": 2,
       "version_minor": 0
      },
      "text/plain": [
       "0/537           ETA: ?s - "
      ]
     },
     "metadata": {},
     "output_type": "display_data"
    },
    {
     "name": "stdout",
     "output_type": "stream",
     "text": [
      "Epoch 149/200\n",
      "537/537 [==============================] - 232s 432ms/step - loss: 3.5942 - accuracy: 0.1186 - val_loss: 277831155712.0000 - val_accuracy: 0.0056\n",
      "Epoch 150/200\n"
     ]
    },
    {
     "data": {
      "application/vnd.jupyter.widget-view+json": {
       "model_id": "ba0d759147474e2f997286207c9a4bbf",
       "version_major": 2,
       "version_minor": 0
      },
      "text/plain": [
       "0/537           ETA: ?s - "
      ]
     },
     "metadata": {},
     "output_type": "display_data"
    },
    {
     "name": "stdout",
     "output_type": "stream",
     "text": [
      "Epoch 150/200\n",
      "537/537 [==============================] - 231s 429ms/step - loss: 3.5934 - accuracy: 0.1186 - val_loss: 288236634112.0000 - val_accuracy: 0.0056\n",
      "Epoch 151/200\n"
     ]
    },
    {
     "data": {
      "application/vnd.jupyter.widget-view+json": {
       "model_id": "2dc313c4b1274e819421d2a3f8738a63",
       "version_major": 2,
       "version_minor": 0
      },
      "text/plain": [
       "0/537           ETA: ?s - "
      ]
     },
     "metadata": {},
     "output_type": "display_data"
    },
    {
     "name": "stdout",
     "output_type": "stream",
     "text": [
      "Epoch 151/200\n",
      "537/537 [==============================] - 230s 429ms/step - loss: 3.5946 - accuracy: 0.1186 - val_loss: 314293288960.0000 - val_accuracy: 0.0056\n",
      "Epoch 152/200\n"
     ]
    },
    {
     "data": {
      "application/vnd.jupyter.widget-view+json": {
       "model_id": "bae12b11041949b18c2feb113566732e",
       "version_major": 2,
       "version_minor": 0
      },
      "text/plain": [
       "0/537           ETA: ?s - "
      ]
     },
     "metadata": {},
     "output_type": "display_data"
    },
    {
     "name": "stdout",
     "output_type": "stream",
     "text": [
      "Epoch 152/200\n",
      "537/537 [==============================] - 230s 429ms/step - loss: 3.5945 - accuracy: 0.1186 - val_loss: 342422290432.0000 - val_accuracy: 0.0056\n",
      "Epoch 153/200\n"
     ]
    },
    {
     "data": {
      "application/vnd.jupyter.widget-view+json": {
       "model_id": "3734afa366994c08a27203d5fee80f2c",
       "version_major": 2,
       "version_minor": 0
      },
      "text/plain": [
       "0/537           ETA: ?s - "
      ]
     },
     "metadata": {},
     "output_type": "display_data"
    },
    {
     "name": "stdout",
     "output_type": "stream",
     "text": [
      "Epoch 153/200\n",
      "537/537 [==============================] - 230s 429ms/step - loss: 3.5932 - accuracy: 0.1186 - val_loss: 327763427328.0000 - val_accuracy: 0.0056\n",
      "Epoch 154/200\n"
     ]
    },
    {
     "data": {
      "application/vnd.jupyter.widget-view+json": {
       "model_id": "7ede740fd3e046beb5320a8999516c96",
       "version_major": 2,
       "version_minor": 0
      },
      "text/plain": [
       "0/537           ETA: ?s - "
      ]
     },
     "metadata": {},
     "output_type": "display_data"
    },
    {
     "name": "stdout",
     "output_type": "stream",
     "text": [
      "Epoch 154/200\n",
      "537/537 [==============================] - 230s 429ms/step - loss: 3.5938 - accuracy: 0.1186 - val_loss: 310471032832.0000 - val_accuracy: 0.0056\n",
      "Epoch 155/200\n"
     ]
    },
    {
     "data": {
      "application/vnd.jupyter.widget-view+json": {
       "model_id": "b573738958554fb8b8c9add9355d54f6",
       "version_major": 2,
       "version_minor": 0
      },
      "text/plain": [
       "0/537           ETA: ?s - "
      ]
     },
     "metadata": {},
     "output_type": "display_data"
    },
    {
     "name": "stdout",
     "output_type": "stream",
     "text": [
      "Epoch 155/200\n",
      "537/537 [==============================] - 235s 438ms/step - loss: 3.5939 - accuracy: 0.1186 - val_loss: 301913931776.0000 - val_accuracy: 0.0056\n",
      "Epoch 156/200\n"
     ]
    },
    {
     "data": {
      "application/vnd.jupyter.widget-view+json": {
       "model_id": "8cfb7727c4f14e93bbd8b3ce0bfd5ad8",
       "version_major": 2,
       "version_minor": 0
      },
      "text/plain": [
       "0/537           ETA: ?s - "
      ]
     },
     "metadata": {},
     "output_type": "display_data"
    },
    {
     "name": "stdout",
     "output_type": "stream",
     "text": [
      "Epoch 156/200\n",
      "537/537 [==============================] - 233s 433ms/step - loss: 3.5938 - accuracy: 0.1186 - val_loss: 291287040000.0000 - val_accuracy: 0.0056\n",
      "Epoch 157/200\n"
     ]
    },
    {
     "data": {
      "application/vnd.jupyter.widget-view+json": {
       "model_id": "bf6ee648e78d4e79a52a1fbc134b3d83",
       "version_major": 2,
       "version_minor": 0
      },
      "text/plain": [
       "0/537           ETA: ?s - "
      ]
     },
     "metadata": {},
     "output_type": "display_data"
    },
    {
     "name": "stdout",
     "output_type": "stream",
     "text": [
      "Epoch 157/200\n",
      "537/537 [==============================] - 231s 430ms/step - loss: 3.5937 - accuracy: 0.1186 - val_loss: 312460050432.0000 - val_accuracy: 0.0056\n",
      "Epoch 158/200\n"
     ]
    },
    {
     "data": {
      "application/vnd.jupyter.widget-view+json": {
       "model_id": "05e3d29d3c024bcdb7c5950b9eda8743",
       "version_major": 2,
       "version_minor": 0
      },
      "text/plain": [
       "0/537           ETA: ?s - "
      ]
     },
     "metadata": {},
     "output_type": "display_data"
    },
    {
     "name": "stdout",
     "output_type": "stream",
     "text": [
      "Epoch 158/200\n",
      "537/537 [==============================] - 233s 433ms/step - loss: 3.5933 - accuracy: 0.1186 - val_loss: 303005728768.0000 - val_accuracy: 0.0056\n",
      "Epoch 159/200\n"
     ]
    },
    {
     "data": {
      "application/vnd.jupyter.widget-view+json": {
       "model_id": "0d0f853ae0b14bfdbd3696d078535351",
       "version_major": 2,
       "version_minor": 0
      },
      "text/plain": [
       "0/537           ETA: ?s - "
      ]
     },
     "metadata": {},
     "output_type": "display_data"
    },
    {
     "name": "stdout",
     "output_type": "stream",
     "text": [
      "Epoch 159/200\n",
      "537/537 [==============================] - 231s 430ms/step - loss: 3.5940 - accuracy: 0.1186 - val_loss: 279244341248.0000 - val_accuracy: 0.0056\n",
      "Epoch 160/200\n"
     ]
    },
    {
     "data": {
      "application/vnd.jupyter.widget-view+json": {
       "model_id": "a13af54c964b4f89be16ffe6078c92bb",
       "version_major": 2,
       "version_minor": 0
      },
      "text/plain": [
       "0/537           ETA: ?s - "
      ]
     },
     "metadata": {},
     "output_type": "display_data"
    },
    {
     "name": "stdout",
     "output_type": "stream",
     "text": [
      "Epoch 160/200\n",
      "537/537 [==============================] - 230s 429ms/step - loss: 3.5930 - accuracy: 0.1186 - val_loss: 285486710784.0000 - val_accuracy: 0.0056\n",
      "Epoch 161/200\n"
     ]
    },
    {
     "data": {
      "application/vnd.jupyter.widget-view+json": {
       "model_id": "925a75fe36f94255936b643b1aed0163",
       "version_major": 2,
       "version_minor": 0
      },
      "text/plain": [
       "0/537           ETA: ?s - "
      ]
     },
     "metadata": {},
     "output_type": "display_data"
    },
    {
     "name": "stdout",
     "output_type": "stream",
     "text": [
      "Epoch 161/200\n",
      "537/537 [==============================] - 230s 429ms/step - loss: 3.5938 - accuracy: 0.1186 - val_loss: 283452866560.0000 - val_accuracy: 0.0056\n",
      "Epoch 162/200\n"
     ]
    },
    {
     "data": {
      "application/vnd.jupyter.widget-view+json": {
       "model_id": "b0a9b4d4a0624569a1e4f414d27d92e3",
       "version_major": 2,
       "version_minor": 0
      },
      "text/plain": [
       "0/537           ETA: ?s - "
      ]
     },
     "metadata": {},
     "output_type": "display_data"
    },
    {
     "name": "stdout",
     "output_type": "stream",
     "text": [
      "Epoch 162/200\n",
      "537/537 [==============================] - 230s 429ms/step - loss: 3.5934 - accuracy: 0.1186 - val_loss: 282768998400.0000 - val_accuracy: 0.0056\n",
      "Epoch 163/200\n"
     ]
    },
    {
     "data": {
      "application/vnd.jupyter.widget-view+json": {
       "model_id": "e7c818c1edd7400182ad16f3d7e2b611",
       "version_major": 2,
       "version_minor": 0
      },
      "text/plain": [
       "0/537           ETA: ?s - "
      ]
     },
     "metadata": {},
     "output_type": "display_data"
    },
    {
     "name": "stdout",
     "output_type": "stream",
     "text": [
      "Epoch 163/200\n",
      "537/537 [==============================] - 231s 429ms/step - loss: 3.5939 - accuracy: 0.1186 - val_loss: 301403963392.0000 - val_accuracy: 0.0056\n",
      "Epoch 164/200\n"
     ]
    },
    {
     "data": {
      "application/vnd.jupyter.widget-view+json": {
       "model_id": "12a6558e3fbb4d099fee1c7228b4a4f2",
       "version_major": 2,
       "version_minor": 0
      },
      "text/plain": [
       "0/537           ETA: ?s - "
      ]
     },
     "metadata": {},
     "output_type": "display_data"
    },
    {
     "name": "stdout",
     "output_type": "stream",
     "text": [
      "Epoch 164/200\n",
      "537/537 [==============================] - 232s 432ms/step - loss: 3.5944 - accuracy: 0.1186 - val_loss: 295862730752.0000 - val_accuracy: 0.0056\n",
      "Epoch 165/200\n"
     ]
    },
    {
     "data": {
      "application/vnd.jupyter.widget-view+json": {
       "model_id": "4b9dbcf6305246fd93763f4a8c383a39",
       "version_major": 2,
       "version_minor": 0
      },
      "text/plain": [
       "0/537           ETA: ?s - "
      ]
     },
     "metadata": {},
     "output_type": "display_data"
    },
    {
     "name": "stdout",
     "output_type": "stream",
     "text": [
      "Epoch 165/200\n",
      "537/537 [==============================] - 243s 452ms/step - loss: 3.5931 - accuracy: 0.1186 - val_loss: 296711979008.0000 - val_accuracy: 0.0056\n",
      "Epoch 166/200\n"
     ]
    },
    {
     "data": {
      "application/vnd.jupyter.widget-view+json": {
       "model_id": "7e97b563c99a4cc78dd327c47bd9bee8",
       "version_major": 2,
       "version_minor": 0
      },
      "text/plain": [
       "0/537           ETA: ?s - "
      ]
     },
     "metadata": {},
     "output_type": "display_data"
    },
    {
     "name": "stdout",
     "output_type": "stream",
     "text": [
      "Epoch 166/200\n",
      "537/537 [==============================] - 280s 521ms/step - loss: 3.5929 - accuracy: 0.1186 - val_loss: 267033411584.0000 - val_accuracy: 0.0056\n",
      "Epoch 167/200\n"
     ]
    },
    {
     "data": {
      "application/vnd.jupyter.widget-view+json": {
       "model_id": "0678fa8b79e04a74ba429d22558b3816",
       "version_major": 2,
       "version_minor": 0
      },
      "text/plain": [
       "0/537           ETA: ?s - "
      ]
     },
     "metadata": {},
     "output_type": "display_data"
    },
    {
     "name": "stdout",
     "output_type": "stream",
     "text": [
      "Epoch 167/200\n",
      "537/537 [==============================] - 253s 470ms/step - loss: 3.5934 - accuracy: 0.1186 - val_loss: 294927302656.0000 - val_accuracy: 0.0056\n",
      "Epoch 168/200\n"
     ]
    },
    {
     "data": {
      "application/vnd.jupyter.widget-view+json": {
       "model_id": "1d735412e90f4c95be11c2d449012ad6",
       "version_major": 2,
       "version_minor": 0
      },
      "text/plain": [
       "0/537           ETA: ?s - "
      ]
     },
     "metadata": {},
     "output_type": "display_data"
    },
    {
     "name": "stdout",
     "output_type": "stream",
     "text": [
      "Epoch 168/200\n",
      "537/537 [==============================] - 235s 437ms/step - loss: 3.5931 - accuracy: 0.1186 - val_loss: 287855869952.0000 - val_accuracy: 0.0056\n",
      "Epoch 169/200\n"
     ]
    },
    {
     "data": {
      "application/vnd.jupyter.widget-view+json": {
       "model_id": "0c9885839ff24aff99c47fb3585c2d7e",
       "version_major": 2,
       "version_minor": 0
      },
      "text/plain": [
       "0/537           ETA: ?s - "
      ]
     },
     "metadata": {},
     "output_type": "display_data"
    },
    {
     "name": "stdout",
     "output_type": "stream",
     "text": [
      "Epoch 169/200\n",
      "537/537 [==============================] - 236s 439ms/step - loss: 3.5931 - accuracy: 0.1186 - val_loss: 270277836800.0000 - val_accuracy: 0.0056\n",
      "Epoch 170/200\n"
     ]
    },
    {
     "data": {
      "application/vnd.jupyter.widget-view+json": {
       "model_id": "4f68a4dd2fa749e8ba3f92d7fa2a4113",
       "version_major": 2,
       "version_minor": 0
      },
      "text/plain": [
       "0/537           ETA: ?s - "
      ]
     },
     "metadata": {},
     "output_type": "display_data"
    },
    {
     "name": "stdout",
     "output_type": "stream",
     "text": [
      "Epoch 170/200\n",
      "537/537 [==============================] - 234s 436ms/step - loss: 3.5934 - accuracy: 0.1186 - val_loss: 293774098432.0000 - val_accuracy: 0.0056\n",
      "Epoch 171/200\n"
     ]
    },
    {
     "data": {
      "application/vnd.jupyter.widget-view+json": {
       "model_id": "f974363c928949f2a67051d5baf5eb29",
       "version_major": 2,
       "version_minor": 0
      },
      "text/plain": [
       "0/537           ETA: ?s - "
      ]
     },
     "metadata": {},
     "output_type": "display_data"
    },
    {
     "name": "stdout",
     "output_type": "stream",
     "text": [
      "Epoch 171/200\n",
      "537/537 [==============================] - 238s 444ms/step - loss: 3.5927 - accuracy: 0.1186 - val_loss: 291726622720.0000 - val_accuracy: 0.0056\n",
      "Epoch 172/200\n"
     ]
    },
    {
     "data": {
      "application/vnd.jupyter.widget-view+json": {
       "model_id": "9b202f853e914d65b8e8afb2854cd62f",
       "version_major": 2,
       "version_minor": 0
      },
      "text/plain": [
       "0/537           ETA: ?s - "
      ]
     },
     "metadata": {},
     "output_type": "display_data"
    },
    {
     "name": "stdout",
     "output_type": "stream",
     "text": [
      "Epoch 172/200\n",
      "537/537 [==============================] - 237s 441ms/step - loss: 3.5942 - accuracy: 0.1186 - val_loss: 285503520768.0000 - val_accuracy: 0.0056\n",
      "Epoch 173/200\n"
     ]
    },
    {
     "data": {
      "application/vnd.jupyter.widget-view+json": {
       "model_id": "3d26322df31c45e3ae2cf403c9fec7c6",
       "version_major": 2,
       "version_minor": 0
      },
      "text/plain": [
       "0/537           ETA: ?s - "
      ]
     },
     "metadata": {},
     "output_type": "display_data"
    },
    {
     "name": "stdout",
     "output_type": "stream",
     "text": [
      "Epoch 173/200\n",
      "537/537 [==============================] - 236s 440ms/step - loss: 3.5933 - accuracy: 0.1186 - val_loss: 262761922560.0000 - val_accuracy: 0.0056\n",
      "Epoch 174/200\n"
     ]
    },
    {
     "data": {
      "application/vnd.jupyter.widget-view+json": {
       "model_id": "45f05b41c28f40feb4de1e315e6152d6",
       "version_major": 2,
       "version_minor": 0
      },
      "text/plain": [
       "0/537           ETA: ?s - "
      ]
     },
     "metadata": {},
     "output_type": "display_data"
    },
    {
     "name": "stdout",
     "output_type": "stream",
     "text": [
      "Epoch 174/200\n",
      "537/537 [==============================] - 238s 442ms/step - loss: 3.5936 - accuracy: 0.1186 - val_loss: 237439877120.0000 - val_accuracy: 0.0056\n",
      "Epoch 175/200\n"
     ]
    },
    {
     "data": {
      "application/vnd.jupyter.widget-view+json": {
       "model_id": "19ab47110b87431680ed18e2a63dc4a3",
       "version_major": 2,
       "version_minor": 0
      },
      "text/plain": [
       "0/537           ETA: ?s - "
      ]
     },
     "metadata": {},
     "output_type": "display_data"
    },
    {
     "name": "stdout",
     "output_type": "stream",
     "text": [
      "Epoch 175/200\n",
      "537/537 [==============================] - 236s 439ms/step - loss: 3.5924 - accuracy: 0.1186 - val_loss: 268028428288.0000 - val_accuracy: 0.0056\n",
      "Epoch 176/200\n"
     ]
    },
    {
     "data": {
      "application/vnd.jupyter.widget-view+json": {
       "model_id": "5ba539a217774cb4b8504bd5cc373adb",
       "version_major": 2,
       "version_minor": 0
      },
      "text/plain": [
       "0/537           ETA: ?s - "
      ]
     },
     "metadata": {},
     "output_type": "display_data"
    },
    {
     "name": "stdout",
     "output_type": "stream",
     "text": [
      "Epoch 176/200\n",
      "537/537 [==============================] - 239s 445ms/step - loss: 3.5934 - accuracy: 0.1186 - val_loss: 276485341184.0000 - val_accuracy: 0.0056\n",
      "Epoch 177/200\n"
     ]
    },
    {
     "data": {
      "application/vnd.jupyter.widget-view+json": {
       "model_id": "f47d0c226df541e9aa457a5eb50a4740",
       "version_major": 2,
       "version_minor": 0
      },
      "text/plain": [
       "0/537           ETA: ?s - "
      ]
     },
     "metadata": {},
     "output_type": "display_data"
    },
    {
     "name": "stdout",
     "output_type": "stream",
     "text": [
      "Epoch 177/200\n",
      "537/537 [==============================] - 237s 442ms/step - loss: 3.5932 - accuracy: 0.1186 - val_loss: 284915826688.0000 - val_accuracy: 0.0056\n",
      "Epoch 178/200\n"
     ]
    },
    {
     "data": {
      "application/vnd.jupyter.widget-view+json": {
       "model_id": "ac81dbd3e26a413fad797d2a2a07d659",
       "version_major": 2,
       "version_minor": 0
      },
      "text/plain": [
       "0/537           ETA: ?s - "
      ]
     },
     "metadata": {},
     "output_type": "display_data"
    },
    {
     "name": "stdout",
     "output_type": "stream",
     "text": [
      "Epoch 178/200\n",
      "537/537 [==============================] - 237s 440ms/step - loss: 3.5934 - accuracy: 0.1186 - val_loss: 320208404480.0000 - val_accuracy: 0.0056\n",
      "Epoch 179/200\n"
     ]
    },
    {
     "data": {
      "application/vnd.jupyter.widget-view+json": {
       "model_id": "5adf04f7ab614ce7bcb80bd180f0789d",
       "version_major": 2,
       "version_minor": 0
      },
      "text/plain": [
       "0/537           ETA: ?s - "
      ]
     },
     "metadata": {},
     "output_type": "display_data"
    },
    {
     "name": "stdout",
     "output_type": "stream",
     "text": [
      "Epoch 179/200\n",
      "537/537 [==============================] - 239s 445ms/step - loss: 3.5925 - accuracy: 0.1186 - val_loss: 291290087424.0000 - val_accuracy: 0.0056\n",
      "Epoch 180/200\n"
     ]
    },
    {
     "data": {
      "application/vnd.jupyter.widget-view+json": {
       "model_id": "840cd6be4260425b92fff88d3949de6f",
       "version_major": 2,
       "version_minor": 0
      },
      "text/plain": [
       "0/537           ETA: ?s - "
      ]
     },
     "metadata": {},
     "output_type": "display_data"
    },
    {
     "name": "stdout",
     "output_type": "stream",
     "text": [
      "Epoch 180/200\n",
      "537/537 [==============================] - 235s 437ms/step - loss: 3.5924 - accuracy: 0.1186 - val_loss: 292796661760.0000 - val_accuracy: 0.0056\n",
      "Epoch 181/200\n"
     ]
    },
    {
     "data": {
      "application/vnd.jupyter.widget-view+json": {
       "model_id": "82690f6fadda4facaa3c08c1362bd1c6",
       "version_major": 2,
       "version_minor": 0
      },
      "text/plain": [
       "0/537           ETA: ?s - "
      ]
     },
     "metadata": {},
     "output_type": "display_data"
    },
    {
     "name": "stdout",
     "output_type": "stream",
     "text": [
      "Epoch 181/200\n",
      "537/537 [==============================] - 233s 434ms/step - loss: 3.5933 - accuracy: 0.1186 - val_loss: 306757599232.0000 - val_accuracy: 0.0056\n",
      "Epoch 182/200\n"
     ]
    },
    {
     "data": {
      "application/vnd.jupyter.widget-view+json": {
       "model_id": "2f82fb9930fc424bb7030a7be49ba7dd",
       "version_major": 2,
       "version_minor": 0
      },
      "text/plain": [
       "0/537           ETA: ?s - "
      ]
     },
     "metadata": {},
     "output_type": "display_data"
    },
    {
     "name": "stdout",
     "output_type": "stream",
     "text": [
      "Epoch 182/200\n",
      "537/537 [==============================] - 229s 427ms/step - loss: 3.5940 - accuracy: 0.1186 - val_loss: 305252106240.0000 - val_accuracy: 0.0056\n",
      "Epoch 183/200\n"
     ]
    },
    {
     "data": {
      "application/vnd.jupyter.widget-view+json": {
       "model_id": "50037b93c3684801a7d410e3813b0e84",
       "version_major": 2,
       "version_minor": 0
      },
      "text/plain": [
       "0/537           ETA: ?s - "
      ]
     },
     "metadata": {},
     "output_type": "display_data"
    },
    {
     "name": "stdout",
     "output_type": "stream",
     "text": [
      "Epoch 183/200\n",
      "537/537 [==============================] - 227s 423ms/step - loss: 3.5937 - accuracy: 0.1186 - val_loss: 305885773824.0000 - val_accuracy: 0.0056\n",
      "Epoch 184/200\n"
     ]
    },
    {
     "data": {
      "application/vnd.jupyter.widget-view+json": {
       "model_id": "ba8d2f33bcab49058f358d72cc160a52",
       "version_major": 2,
       "version_minor": 0
      },
      "text/plain": [
       "0/537           ETA: ?s - "
      ]
     },
     "metadata": {},
     "output_type": "display_data"
    },
    {
     "name": "stdout",
     "output_type": "stream",
     "text": [
      "Epoch 184/200\n",
      "537/537 [==============================] - 230s 428ms/step - loss: 3.5925 - accuracy: 0.1186 - val_loss: 335628664832.0000 - val_accuracy: 0.0056\n",
      "Epoch 185/200\n"
     ]
    },
    {
     "data": {
      "application/vnd.jupyter.widget-view+json": {
       "model_id": "82f6ee15bf064279bb9208756af9ff32",
       "version_major": 2,
       "version_minor": 0
      },
      "text/plain": [
       "0/537           ETA: ?s - "
      ]
     },
     "metadata": {},
     "output_type": "display_data"
    },
    {
     "name": "stdout",
     "output_type": "stream",
     "text": [
      "Epoch 185/200\n",
      "537/537 [==============================] - 227s 423ms/step - loss: 3.5925 - accuracy: 0.1186 - val_loss: 356305043456.0000 - val_accuracy: 0.0056\n",
      "Epoch 186/200\n"
     ]
    },
    {
     "data": {
      "application/vnd.jupyter.widget-view+json": {
       "model_id": "125cb5294be44e6f8ed27fc410215146",
       "version_major": 2,
       "version_minor": 0
      },
      "text/plain": [
       "0/537           ETA: ?s - "
      ]
     },
     "metadata": {},
     "output_type": "display_data"
    },
    {
     "name": "stdout",
     "output_type": "stream",
     "text": [
      "Epoch 186/200\n",
      "537/537 [==============================] - 228s 424ms/step - loss: 3.5939 - accuracy: 0.1186 - val_loss: 330182656000.0000 - val_accuracy: 0.0056\n",
      "Epoch 187/200\n"
     ]
    },
    {
     "data": {
      "application/vnd.jupyter.widget-view+json": {
       "model_id": "a4e495fd4ac346cc8ab4bfeb5c1a71d6",
       "version_major": 2,
       "version_minor": 0
      },
      "text/plain": [
       "0/537           ETA: ?s - "
      ]
     },
     "metadata": {},
     "output_type": "display_data"
    },
    {
     "name": "stdout",
     "output_type": "stream",
     "text": [
      "Epoch 187/200\n",
      "537/537 [==============================] - 229s 426ms/step - loss: 3.5927 - accuracy: 0.1186 - val_loss: 329597452288.0000 - val_accuracy: 0.0056\n",
      "Epoch 188/200\n"
     ]
    },
    {
     "data": {
      "application/vnd.jupyter.widget-view+json": {
       "model_id": "5765447f1e2248d6b45a1ce628e0b976",
       "version_major": 2,
       "version_minor": 0
      },
      "text/plain": [
       "0/537           ETA: ?s - "
      ]
     },
     "metadata": {},
     "output_type": "display_data"
    },
    {
     "name": "stdout",
     "output_type": "stream",
     "text": [
      "Epoch 188/200\n",
      "537/537 [==============================] - 228s 424ms/step - loss: 3.5931 - accuracy: 0.1186 - val_loss: 337421926400.0000 - val_accuracy: 0.0056\n",
      "Epoch 189/200\n"
     ]
    },
    {
     "data": {
      "application/vnd.jupyter.widget-view+json": {
       "model_id": "8f6397b2c6804679aef752fa001910d1",
       "version_major": 2,
       "version_minor": 0
      },
      "text/plain": [
       "0/537           ETA: ?s - "
      ]
     },
     "metadata": {},
     "output_type": "display_data"
    },
    {
     "name": "stdout",
     "output_type": "stream",
     "text": [
      "Epoch 189/200\n",
      "537/537 [==============================] - 227s 422ms/step - loss: 3.5932 - accuracy: 0.1186 - val_loss: 312566120448.0000 - val_accuracy: 0.0056\n",
      "Epoch 190/200\n"
     ]
    },
    {
     "data": {
      "application/vnd.jupyter.widget-view+json": {
       "model_id": "ccff85864b6942298eda42c476dc3980",
       "version_major": 2,
       "version_minor": 0
      },
      "text/plain": [
       "0/537           ETA: ?s - "
      ]
     },
     "metadata": {},
     "output_type": "display_data"
    },
    {
     "name": "stdout",
     "output_type": "stream",
     "text": [
      "Epoch 190/200\n",
      "537/537 [==============================] - 228s 424ms/step - loss: 3.5932 - accuracy: 0.1186 - val_loss: 289700216832.0000 - val_accuracy: 0.0056\n",
      "Epoch 191/200\n"
     ]
    },
    {
     "data": {
      "application/vnd.jupyter.widget-view+json": {
       "model_id": "4922eeed11764dea91086972320e1e61",
       "version_major": 2,
       "version_minor": 0
      },
      "text/plain": [
       "0/537           ETA: ?s - "
      ]
     },
     "metadata": {},
     "output_type": "display_data"
    },
    {
     "name": "stdout",
     "output_type": "stream",
     "text": [
      "Epoch 191/200\n",
      "537/537 [==============================] - 227s 423ms/step - loss: 3.5939 - accuracy: 0.1186 - val_loss: 292295573504.0000 - val_accuracy: 0.0056\n",
      "Epoch 192/200\n"
     ]
    },
    {
     "data": {
      "application/vnd.jupyter.widget-view+json": {
       "model_id": "26d8a22771074d0880395d14ef22a794",
       "version_major": 2,
       "version_minor": 0
      },
      "text/plain": [
       "0/537           ETA: ?s - "
      ]
     },
     "metadata": {},
     "output_type": "display_data"
    },
    {
     "name": "stdout",
     "output_type": "stream",
     "text": [
      "Epoch 192/200\n",
      "537/537 [==============================] - 227s 423ms/step - loss: 3.5933 - accuracy: 0.1186 - val_loss: 285185310720.0000 - val_accuracy: 0.0056\n",
      "Epoch 193/200\n"
     ]
    },
    {
     "data": {
      "application/vnd.jupyter.widget-view+json": {
       "model_id": "246d356cce8947d7b1a8fedfc7efc67a",
       "version_major": 2,
       "version_minor": 0
      },
      "text/plain": [
       "0/537           ETA: ?s - "
      ]
     },
     "metadata": {},
     "output_type": "display_data"
    },
    {
     "name": "stdout",
     "output_type": "stream",
     "text": [
      "Epoch 193/200\n",
      "537/537 [==============================] - 227s 423ms/step - loss: 3.5926 - accuracy: 0.1186 - val_loss: 285875470336.0000 - val_accuracy: 0.0056\n",
      "Epoch 194/200\n"
     ]
    },
    {
     "data": {
      "application/vnd.jupyter.widget-view+json": {
       "model_id": "9db996d3dc6443a4b40efdc9268cebe2",
       "version_major": 2,
       "version_minor": 0
      },
      "text/plain": [
       "0/537           ETA: ?s - "
      ]
     },
     "metadata": {},
     "output_type": "display_data"
    },
    {
     "name": "stdout",
     "output_type": "stream",
     "text": [
      "Epoch 194/200\n",
      "537/537 [==============================] - 228s 424ms/step - loss: 3.5935 - accuracy: 0.1186 - val_loss: 291232251904.0000 - val_accuracy: 0.0056\n",
      "Epoch 195/200\n"
     ]
    },
    {
     "data": {
      "application/vnd.jupyter.widget-view+json": {
       "model_id": "0e06f5f6ee6c4794bc3aa30f9033499c",
       "version_major": 2,
       "version_minor": 0
      },
      "text/plain": [
       "0/537           ETA: ?s - "
      ]
     },
     "metadata": {},
     "output_type": "display_data"
    },
    {
     "name": "stdout",
     "output_type": "stream",
     "text": [
      "Epoch 195/200\n",
      "537/537 [==============================] - 229s 426ms/step - loss: 3.5930 - accuracy: 0.1186 - val_loss: 273044602880.0000 - val_accuracy: 0.0056\n",
      "Epoch 196/200\n"
     ]
    },
    {
     "data": {
      "application/vnd.jupyter.widget-view+json": {
       "model_id": "276b6d9a5d3c4a209b4c8cb2521b5998",
       "version_major": 2,
       "version_minor": 0
      },
      "text/plain": [
       "0/537           ETA: ?s - "
      ]
     },
     "metadata": {},
     "output_type": "display_data"
    },
    {
     "name": "stdout",
     "output_type": "stream",
     "text": [
      "Epoch 196/200\n",
      "537/537 [==============================] - 228s 425ms/step - loss: 3.5931 - accuracy: 0.1186 - val_loss: 276564738048.0000 - val_accuracy: 0.0056\n",
      "Epoch 197/200\n"
     ]
    },
    {
     "data": {
      "application/vnd.jupyter.widget-view+json": {
       "model_id": "f77f822f4a874634a6a9edeaf4db653f",
       "version_major": 2,
       "version_minor": 0
      },
      "text/plain": [
       "0/537           ETA: ?s - "
      ]
     },
     "metadata": {},
     "output_type": "display_data"
    },
    {
     "name": "stdout",
     "output_type": "stream",
     "text": [
      "Epoch 197/200\n",
      "537/537 [==============================] - 227s 423ms/step - loss: 3.5927 - accuracy: 0.1186 - val_loss: 273473224704.0000 - val_accuracy: 0.0056\n",
      "Epoch 198/200\n"
     ]
    },
    {
     "data": {
      "application/vnd.jupyter.widget-view+json": {
       "model_id": "71d78eb00f2b47e0adc82d1aeb00a6b5",
       "version_major": 2,
       "version_minor": 0
      },
      "text/plain": [
       "0/537           ETA: ?s - "
      ]
     },
     "metadata": {},
     "output_type": "display_data"
    },
    {
     "name": "stdout",
     "output_type": "stream",
     "text": [
      "Epoch 198/200\n",
      "537/537 [==============================] - 227s 423ms/step - loss: 3.5932 - accuracy: 0.1186 - val_loss: 274156175360.0000 - val_accuracy: 0.0056\n",
      "Epoch 199/200\n"
     ]
    },
    {
     "data": {
      "application/vnd.jupyter.widget-view+json": {
       "model_id": "678ebe059715496da46519cd277e3c39",
       "version_major": 2,
       "version_minor": 0
      },
      "text/plain": [
       "0/537           ETA: ?s - "
      ]
     },
     "metadata": {},
     "output_type": "display_data"
    },
    {
     "name": "stdout",
     "output_type": "stream",
     "text": [
      "Epoch 199/200\n",
      "537/537 [==============================] - 227s 423ms/step - loss: 3.5933 - accuracy: 0.1186 - val_loss: 261793136640.0000 - val_accuracy: 0.0056\n",
      "Epoch 200/200\n"
     ]
    },
    {
     "data": {
      "application/vnd.jupyter.widget-view+json": {
       "model_id": "7711769ea08d4bf79eb95411230eb48a",
       "version_major": 2,
       "version_minor": 0
      },
      "text/plain": [
       "0/537           ETA: ?s - "
      ]
     },
     "metadata": {},
     "output_type": "display_data"
    },
    {
     "name": "stdout",
     "output_type": "stream",
     "text": [
      "Epoch 200/200\n",
      "537/537 [==============================] - 227s 423ms/step - loss: 3.5931 - accuracy: 0.1186 - val_loss: 258985000960.0000 - val_accuracy: 0.0056\n"
     ]
    }
   ],
   "source": [
    "history = model.fit(\n",
    "    X_train, y_train, batch_size = 32,\n",
    "validation_data = (X_test, y_test),\n",
    "epochs = 200, verbose = 1,\n",
    "callbacks = [tqdm_callback]\n",
    ")"
   ]
  },
  {
   "cell_type": "code",
   "execution_count": 40,
   "metadata": {},
   "outputs": [
    {
     "data": {
      "image/png": "[encoded data removed]",
      "text/plain": [
       "<Figure size 640x480 with 2 Axes>"
      ]
     },
     "metadata": {},
     "output_type": "display_data"
    }
   ],
   "source": [
    "fig, loss_ax = plt.subplots()\n",
    "acc_ax = loss_ax.twinx()\n",
    "\n",
    "loss_ax.plot(history.history['loss'], 'y', label = 'train loss')\n",
    "loss_ax.plot(history.history['val_loss'], 'r', label = 'val loss')\n",
    "\n",
    "acc_ax.plot(history.history['accuracy'], 'b', label = 'train accuracy')\n",
    "acc_ax.plot(history.history['val_accuracy'], 'g', label = 'valid accuracy')\n",
    "\n",
    "loss_ax.set_xlabel('epoch')\n",
    "loss_ax.set_ylabel('loss')\n",
    "acc_ax.set_ylabel('accuracy')\n",
    "\n",
    "loss_ax.legend(loc='upper left')\n",
    "acc_ax.legend(loc='lower left')\n",
    "\n",
    "plt.plot(history.history['accuracy'])\n",
    "plt.plot(history.history['val_accuracy'])\n",
    "plt.title('Model accuracy')\n",
    "plt.xlabel('Epoch')\n",
    "plt.ylabel('Accuracy')\n",
    "plt.legend(['Train', 'Test'], loc='upper left')\n",
    "plt.show()"
   ]
  },
  {
   "cell_type": "code",
   "execution_count": 41,
   "metadata": {},
   "outputs": [
    {
     "data": {
      "image/png": "[encoded data removed]",
      "text/plain": [
       "<Figure size 640x480 with 1 Axes>"
      ]
     },
     "metadata": {},
     "output_type": "display_data"
    }
   ],
   "source": [
    "# 7 훈련 과정 시각화 (손실)\n",
    "plt.plot(history.history['loss'])\n",
    "plt.plot(history.history['val_loss'])\n",
    "plt.title('Model loss')\n",
    "plt.xlabel('Epoch')\n",
    "plt.ylabel('Loss')\n",
    "plt.legend(['Train', 'Test'], loc='upper left')\n",
    "plt.show()"
   ]
  },
  {
   "cell_type": "code",
   "execution_count": 55,
   "metadata": {},
   "outputs": [
    {
     "name": "stdout",
     "output_type": "stream",
     "text": [
      ">>> test image path = ['test/타이레놀.jpeg', 'test/기타의 비뇨생식기관 및 항문용약18.png', 'test/비타민 C 및 P제1.png']\n"
     ]
    }
   ],
   "source": [
    "test_image_paths = sorted(\n",
    "    list(\n",
    "        paths.list_images(\"test/\")\n",
    "    )\n",
    ")\n",
    "print(\">>> test image path =\", test_image_paths)"
   ]
  },
  {
   "cell_type": "code",
   "execution_count": 56,
   "metadata": {},
   "outputs": [
    {
     "name": "stdout",
     "output_type": "stream",
     "text": [
      "1/1 [==============================] - 0s 22ms/step\n",
      "[0. 0. 0. 0. 0. 0. 0. 0. 0. 0. 0. 0. 0. 0. 0. 0. 0. 0. 0. 0. 0. 0. 0. 0.\n",
      " 0. 0. 0. 0. 0. 0. 0. 0. 0. 0. 0. 0. 0. 0. 0. 0. 0. 0. 1. 0. 0. 0. 0. 0.\n",
      " 0. 0. 0. 0. 0. 0. 0. 0. 0. 0. 0. 0. 0. 0. 0. 0. 0. 0. 0. 0. 0. 0. 0. 0.\n",
      " 0. 0. 0. 0. 0. 0. 0. 0. 0. 0. 0. 0. 0. 0. 0. 0. 0. 0. 0. 0. 0. 0. 0. 0.\n",
      " 0. 0. 0. 0. 0. 0. 0. 0. 0.]\n",
      ">>> predict class = 부신호르몬제\n",
      "1/1 [==============================] - 0s 23ms/step\n",
      "[0. 0. 0. 0. 0. 0. 0. 0. 0. 0. 0. 0. 0. 0. 0. 0. 0. 0. 0. 0. 0. 0. 0. 0.\n",
      " 0. 0. 0. 0. 0. 0. 0. 0. 0. 0. 0. 0. 0. 0. 0. 0. 0. 0. 1. 0. 0. 0. 0. 0.\n",
      " 0. 0. 0. 0. 0. 0. 0. 0. 0. 0. 0. 0. 0. 0. 0. 0. 0. 0. 0. 0. 0. 0. 0. 0.\n",
      " 0. 0. 0. 0. 0. 0. 0. 0. 0. 0. 0. 0. 0. 0. 0. 0. 0. 0. 0. 0. 0. 0. 0. 0.\n",
      " 0. 0. 0. 0. 0. 0. 0. 0. 0.]\n",
      ">>> predict class = 부신호르몬제\n",
      "1/1 [==============================] - 0s 21ms/step\n",
      "[0. 0. 0. 0. 0. 0. 0. 0. 0. 0. 0. 0. 0. 0. 0. 0. 0. 0. 0. 0. 0. 0. 0. 0.\n",
      " 0. 0. 0. 0. 0. 0. 0. 0. 0. 0. 0. 0. 0. 0. 0. 0. 0. 0. 1. 0. 0. 0. 0. 0.\n",
      " 0. 0. 0. 0. 0. 0. 0. 0. 0. 0. 0. 0. 0. 0. 0. 0. 0. 0. 0. 0. 0. 0. 0. 0.\n",
      " 0. 0. 0. 0. 0. 0. 0. 0. 0. 0. 0. 0. 0. 0. 0. 0. 0. 0. 0. 0. 0. 0. 0. 0.\n",
      " 0. 0. 0. 0. 0. 0. 0. 0. 0.]\n",
      ">>> predict class = 부신호르몬제\n"
     ]
    }
   ],
   "source": [
    "for image_path in test_image_paths:\n",
    "    test_image = cv2.imread(image_path)\n",
    "\n",
    "    test_image = cv2.resize(\n",
    "        test_image, (180, 180)\n",
    "    )\n",
    "    cv2.imshow(\"result\", test_image)\n",
    "\n",
    "    test_image = test_image.astype(\"float\") / 255.0\n",
    "    test_image = np.expand_dims(test_image, axis=0)\n",
    "\n",
    "    proba = model.predict(test_image)[0]\n",
    "    print(\n",
    "        np.round(proba, 3)\n",
    "    )\n",
    "    idx = np.argmax(proba)\n",
    "    print(\">>> predict class =\", mlb.classes_[idx])"
   ]
  },
  {
   "cell_type": "code",
   "execution_count": 43,
   "metadata": {},
   "outputs": [],
   "source": [
    "model.save(\"Phill.h5\")"
   ]
  }
 ],
 "metadata": {
  "kernelspec": {
   "display_name": "Python 3.10.6",
   "language": "python",
   "name": "python3"
  },
  "language_info": {
   "codemirror_mode": {
    "name": "ipython",
    "version": 3
   },
   "file_extension": ".py",
   "mimetype": "text/x-python",
   "name": "python",
   "nbconvert_exporter": "python",
   "pygments_lexer": "ipython3",
   "version": "3.10.6"
  },
  "orig_nbformat": 4,
  "vscode": {
   "interpreter": {
    "hash": "c07128d27ce1dd4a88a803d950707004e45e0ff8959c893c50660bab634194b5"
   }
  }
 },
 "nbformat": 4,
 "nbformat_minor": 2
}
